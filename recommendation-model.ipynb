{
 "cells": [
  {
   "cell_type": "markdown",
   "id": "e1e5b3d5",
   "metadata": {},
   "source": [
    "Movie recommendation system"
   ]
  },
  {
   "cell_type": "code",
   "id": "459c82bd",
   "metadata": {
    "ExecuteTime": {
     "end_time": "2025-06-16T11:12:11.951266Z",
     "start_time": "2025-06-16T11:12:11.945489Z"
    }
   },
   "source": [
    "import pandas as pd\n",
    "import numpy as np"
   ],
   "outputs": [],
   "execution_count": 39
  },
  {
   "cell_type": "code",
   "id": "6ceef56e",
   "metadata": {
    "ExecuteTime": {
     "end_time": "2025-06-16T11:12:12.079127Z",
     "start_time": "2025-06-16T11:12:12.018053Z"
    }
   },
   "source": [
    "#User ratings dataframe\n",
    "ratings=pd.read_csv(\"./ml-100k/u.data\",sep=\"\\t\",names=[\"user_id\",\"movie_id\",\"rating\",\"timestamp\"])\n",
    "ratings.head()"
   ],
   "outputs": [
    {
     "data": {
      "text/plain": [
       "   user_id  movie_id  rating  timestamp\n",
       "0      196       242       3  881250949\n",
       "1      186       302       3  891717742\n",
       "2       22       377       1  878887116\n",
       "3      244        51       2  880606923\n",
       "4      166       346       1  886397596"
      ],
      "text/html": [
       "<div>\n",
       "<style scoped>\n",
       "    .dataframe tbody tr th:only-of-type {\n",
       "        vertical-align: middle;\n",
       "    }\n",
       "\n",
       "    .dataframe tbody tr th {\n",
       "        vertical-align: top;\n",
       "    }\n",
       "\n",
       "    .dataframe thead th {\n",
       "        text-align: right;\n",
       "    }\n",
       "</style>\n",
       "<table border=\"1\" class=\"dataframe\">\n",
       "  <thead>\n",
       "    <tr style=\"text-align: right;\">\n",
       "      <th></th>\n",
       "      <th>user_id</th>\n",
       "      <th>movie_id</th>\n",
       "      <th>rating</th>\n",
       "      <th>timestamp</th>\n",
       "    </tr>\n",
       "  </thead>\n",
       "  <tbody>\n",
       "    <tr>\n",
       "      <th>0</th>\n",
       "      <td>196</td>\n",
       "      <td>242</td>\n",
       "      <td>3</td>\n",
       "      <td>881250949</td>\n",
       "    </tr>\n",
       "    <tr>\n",
       "      <th>1</th>\n",
       "      <td>186</td>\n",
       "      <td>302</td>\n",
       "      <td>3</td>\n",
       "      <td>891717742</td>\n",
       "    </tr>\n",
       "    <tr>\n",
       "      <th>2</th>\n",
       "      <td>22</td>\n",
       "      <td>377</td>\n",
       "      <td>1</td>\n",
       "      <td>878887116</td>\n",
       "    </tr>\n",
       "    <tr>\n",
       "      <th>3</th>\n",
       "      <td>244</td>\n",
       "      <td>51</td>\n",
       "      <td>2</td>\n",
       "      <td>880606923</td>\n",
       "    </tr>\n",
       "    <tr>\n",
       "      <th>4</th>\n",
       "      <td>166</td>\n",
       "      <td>346</td>\n",
       "      <td>1</td>\n",
       "      <td>886397596</td>\n",
       "    </tr>\n",
       "  </tbody>\n",
       "</table>\n",
       "</div>"
      ]
     },
     "execution_count": 40,
     "metadata": {},
     "output_type": "execute_result"
    }
   ],
   "execution_count": 40
  },
  {
   "cell_type": "code",
   "id": "c2d85054",
   "metadata": {
    "ExecuteTime": {
     "end_time": "2025-06-16T11:12:12.263116Z",
     "start_time": "2025-06-16T11:12:12.235038Z"
    }
   },
   "source": [
    "#Movies dataframe\n",
    "columns=[\"movie_id\",\"title\",\"release_date\",\"video_release_date\",\"imdb_url\",\"unknown\",\n",
    "         \"Action\",\"Adventure\",\"Animation\",\"Children\\'s\",\"Comedy\",\"Crime\",\"Documentary\",\n",
    "         \"Drama\",\"Fantasy\",\"Film-Noir\",\"Horror\",\"Musical\",\"Mystery\",\"Romance\",\"Sci-Fi\",\n",
    "         \"Thriller\",\"War\",\"Western\"]\n",
    "movies=pd.read_csv(\"./ml-100k/u.item\",sep=\"|\",names=columns,encoding='latin1')\n",
    "print(movies.head())"
   ],
   "outputs": [
    {
     "name": "stdout",
     "output_type": "stream",
     "text": [
      "   movie_id              title release_date  video_release_date  \\\n",
      "0         1   Toy Story (1995)  01-Jan-1995                 NaN   \n",
      "1         2   GoldenEye (1995)  01-Jan-1995                 NaN   \n",
      "2         3  Four Rooms (1995)  01-Jan-1995                 NaN   \n",
      "3         4  Get Shorty (1995)  01-Jan-1995                 NaN   \n",
      "4         5     Copycat (1995)  01-Jan-1995                 NaN   \n",
      "\n",
      "                                            imdb_url  unknown  Action  \\\n",
      "0  http://us.imdb.com/M/title-exact?Toy%20Story%2...        0       0   \n",
      "1  http://us.imdb.com/M/title-exact?GoldenEye%20(...        0       1   \n",
      "2  http://us.imdb.com/M/title-exact?Four%20Rooms%...        0       0   \n",
      "3  http://us.imdb.com/M/title-exact?Get%20Shorty%...        0       1   \n",
      "4  http://us.imdb.com/M/title-exact?Copycat%20(1995)        0       0   \n",
      "\n",
      "   Adventure  Animation  Children's  ...  Fantasy  Film-Noir  Horror  Musical  \\\n",
      "0          0          1           1  ...        0          0       0        0   \n",
      "1          1          0           0  ...        0          0       0        0   \n",
      "2          0          0           0  ...        0          0       0        0   \n",
      "3          0          0           0  ...        0          0       0        0   \n",
      "4          0          0           0  ...        0          0       0        0   \n",
      "\n",
      "   Mystery  Romance  Sci-Fi  Thriller  War  Western  \n",
      "0        0        0       0         0    0        0  \n",
      "1        0        0       0         1    0        0  \n",
      "2        0        0       0         1    0        0  \n",
      "3        0        0       0         0    0        0  \n",
      "4        0        0       0         1    0        0  \n",
      "\n",
      "[5 rows x 24 columns]\n"
     ]
    }
   ],
   "execution_count": 41
  },
  {
   "cell_type": "code",
   "id": "d437a4d4",
   "metadata": {
    "ExecuteTime": {
     "end_time": "2025-06-16T11:12:12.506798Z",
     "start_time": "2025-06-16T11:12:12.480670Z"
    }
   },
   "source": [
    "#Users dataframe\n",
    "users=pd.read_csv(\"./ml-100k/u.user\",sep=\"|\",names=[\"user_id\",\"age\",\"gender\",\"occupation\",\"zip_code\"])\n",
    "print(users.head())"
   ],
   "outputs": [
    {
     "name": "stdout",
     "output_type": "stream",
     "text": [
      "   user_id  age gender  occupation zip_code\n",
      "0        1   24      M  technician    85711\n",
      "1        2   53      F       other    94043\n",
      "2        3   23      M      writer    32067\n",
      "3        4   24      M  technician    43537\n",
      "4        5   33      F       other    15213\n"
     ]
    }
   ],
   "execution_count": 42
  },
  {
   "cell_type": "code",
   "id": "180c7bb0",
   "metadata": {
    "ExecuteTime": {
     "end_time": "2025-06-16T11:12:12.699619Z",
     "start_time": "2025-06-16T11:12:12.688165Z"
    }
   },
   "source": [
    "print(ratings.info())"
   ],
   "outputs": [
    {
     "name": "stdout",
     "output_type": "stream",
     "text": [
      "<class 'pandas.core.frame.DataFrame'>\n",
      "RangeIndex: 100000 entries, 0 to 99999\n",
      "Data columns (total 4 columns):\n",
      " #   Column     Non-Null Count   Dtype\n",
      "---  ------     --------------   -----\n",
      " 0   user_id    100000 non-null  int64\n",
      " 1   movie_id   100000 non-null  int64\n",
      " 2   rating     100000 non-null  int64\n",
      " 3   timestamp  100000 non-null  int64\n",
      "dtypes: int64(4)\n",
      "memory usage: 3.1 MB\n",
      "None\n"
     ]
    }
   ],
   "execution_count": 43
  },
  {
   "cell_type": "code",
   "id": "327c222d",
   "metadata": {
    "ExecuteTime": {
     "end_time": "2025-06-16T11:12:12.846456Z",
     "start_time": "2025-06-16T11:12:12.831078Z"
    }
   },
   "source": [
    "print(movies.info())"
   ],
   "outputs": [
    {
     "name": "stdout",
     "output_type": "stream",
     "text": [
      "<class 'pandas.core.frame.DataFrame'>\n",
      "RangeIndex: 1682 entries, 0 to 1681\n",
      "Data columns (total 24 columns):\n",
      " #   Column              Non-Null Count  Dtype  \n",
      "---  ------              --------------  -----  \n",
      " 0   movie_id            1682 non-null   int64  \n",
      " 1   title               1682 non-null   object \n",
      " 2   release_date        1681 non-null   object \n",
      " 3   video_release_date  0 non-null      float64\n",
      " 4   imdb_url            1679 non-null   object \n",
      " 5   unknown             1682 non-null   int64  \n",
      " 6   Action              1682 non-null   int64  \n",
      " 7   Adventure           1682 non-null   int64  \n",
      " 8   Animation           1682 non-null   int64  \n",
      " 9   Children's          1682 non-null   int64  \n",
      " 10  Comedy              1682 non-null   int64  \n",
      " 11  Crime               1682 non-null   int64  \n",
      " 12  Documentary         1682 non-null   int64  \n",
      " 13  Drama               1682 non-null   int64  \n",
      " 14  Fantasy             1682 non-null   int64  \n",
      " 15  Film-Noir           1682 non-null   int64  \n",
      " 16  Horror              1682 non-null   int64  \n",
      " 17  Musical             1682 non-null   int64  \n",
      " 18  Mystery             1682 non-null   int64  \n",
      " 19  Romance             1682 non-null   int64  \n",
      " 20  Sci-Fi              1682 non-null   int64  \n",
      " 21  Thriller            1682 non-null   int64  \n",
      " 22  War                 1682 non-null   int64  \n",
      " 23  Western             1682 non-null   int64  \n",
      "dtypes: float64(1), int64(20), object(3)\n",
      "memory usage: 315.5+ KB\n",
      "None\n"
     ]
    }
   ],
   "execution_count": 44
  },
  {
   "cell_type": "code",
   "id": "c9f3b3fc",
   "metadata": {
    "ExecuteTime": {
     "end_time": "2025-06-16T11:12:13.038143Z",
     "start_time": "2025-06-16T11:12:13.025962Z"
    }
   },
   "source": [
    "print(users.info())"
   ],
   "outputs": [
    {
     "name": "stdout",
     "output_type": "stream",
     "text": [
      "<class 'pandas.core.frame.DataFrame'>\n",
      "RangeIndex: 943 entries, 0 to 942\n",
      "Data columns (total 5 columns):\n",
      " #   Column      Non-Null Count  Dtype \n",
      "---  ------      --------------  ----- \n",
      " 0   user_id     943 non-null    int64 \n",
      " 1   age         943 non-null    int64 \n",
      " 2   gender      943 non-null    object\n",
      " 3   occupation  943 non-null    object\n",
      " 4   zip_code    943 non-null    object\n",
      "dtypes: int64(2), object(3)\n",
      "memory usage: 37.0+ KB\n",
      "None\n"
     ]
    }
   ],
   "execution_count": 45
  },
  {
   "cell_type": "code",
   "id": "b04f88e6",
   "metadata": {},
   "source": [
    "ratings.isnull().sum()"
   ],
   "outputs": [
    {
     "data": {
      "text/plain": [
       "user_id      0\n",
       "movie_id     0\n",
       "rating       0\n",
       "timestamp    0\n",
       "dtype: int64"
      ]
     },
     "execution_count": 46,
     "metadata": {},
     "output_type": "execute_result"
    }
   ],
   "execution_count": 46
  },
  {
   "cell_type": "code",
   "id": "22f34938",
   "metadata": {
    "ExecuteTime": {
     "end_time": "2025-06-16T11:12:13.320760Z",
     "start_time": "2025-06-16T11:12:13.308548Z"
    }
   },
   "source": [
    "users.isnull().sum()"
   ],
   "outputs": [
    {
     "data": {
      "text/plain": [
       "user_id       0\n",
       "age           0\n",
       "gender        0\n",
       "occupation    0\n",
       "zip_code      0\n",
       "dtype: int64"
      ]
     },
     "execution_count": 47,
     "metadata": {},
     "output_type": "execute_result"
    }
   ],
   "execution_count": 47
  },
  {
   "cell_type": "code",
   "id": "742bc49e",
   "metadata": {
    "ExecuteTime": {
     "end_time": "2025-06-16T11:12:13.569084Z",
     "start_time": "2025-06-16T11:12:13.560204Z"
    }
   },
   "source": [
    "movies.isnull().sum()"
   ],
   "outputs": [
    {
     "data": {
      "text/plain": [
       "movie_id                 0\n",
       "title                    0\n",
       "release_date             1\n",
       "video_release_date    1682\n",
       "imdb_url                 3\n",
       "unknown                  0\n",
       "Action                   0\n",
       "Adventure                0\n",
       "Animation                0\n",
       "Children's               0\n",
       "Comedy                   0\n",
       "Crime                    0\n",
       "Documentary              0\n",
       "Drama                    0\n",
       "Fantasy                  0\n",
       "Film-Noir                0\n",
       "Horror                   0\n",
       "Musical                  0\n",
       "Mystery                  0\n",
       "Romance                  0\n",
       "Sci-Fi                   0\n",
       "Thriller                 0\n",
       "War                      0\n",
       "Western                  0\n",
       "dtype: int64"
      ]
     },
     "execution_count": 48,
     "metadata": {},
     "output_type": "execute_result"
    }
   ],
   "execution_count": 48
  },
  {
   "cell_type": "code",
   "id": "a9ea0bd0",
   "metadata": {
    "ExecuteTime": {
     "end_time": "2025-06-16T11:12:13.946370Z",
     "start_time": "2025-06-16T11:12:13.934413Z"
    }
   },
   "source": [
    "print(movies.loc[movies[\"release_date\"].isnull()])"
   ],
   "outputs": [
    {
     "name": "stdout",
     "output_type": "stream",
     "text": [
      "     movie_id    title release_date  video_release_date imdb_url  unknown  \\\n",
      "266       267  unknown          NaN                 NaN      NaN        1   \n",
      "\n",
      "     Action  Adventure  Animation  Children's  ...  Fantasy  Film-Noir  \\\n",
      "266       0          0          0           0  ...        0          0   \n",
      "\n",
      "     Horror  Musical  Mystery  Romance  Sci-Fi  Thriller  War  Western  \n",
      "266       0        0        0        0       0         0    0        0  \n",
      "\n",
      "[1 rows x 24 columns]\n"
     ]
    }
   ],
   "execution_count": 49
  },
  {
   "cell_type": "code",
   "id": "2db6c33f",
   "metadata": {
    "ExecuteTime": {
     "end_time": "2025-06-16T11:12:14.314253Z",
     "start_time": "2025-06-16T11:12:14.299829Z"
    }
   },
   "source": [
    "print(movies[movies[\"title\"]==\"unknown\"])\n",
    "movies=movies[movies[\"title\"]!=\"unknown\"]\n",
    "print(\"Removed movie with unknown title, genre and release date\")"
   ],
   "outputs": [
    {
     "name": "stdout",
     "output_type": "stream",
     "text": [
      "     movie_id    title release_date  video_release_date imdb_url  unknown  \\\n",
      "266       267  unknown          NaN                 NaN      NaN        1   \n",
      "\n",
      "     Action  Adventure  Animation  Children's  ...  Fantasy  Film-Noir  \\\n",
      "266       0          0          0           0  ...        0          0   \n",
      "\n",
      "     Horror  Musical  Mystery  Romance  Sci-Fi  Thriller  War  Western  \n",
      "266       0        0        0        0       0         0    0        0  \n",
      "\n",
      "[1 rows x 24 columns]\n",
      "Removed movie with unknown title, genre and release date\n"
     ]
    }
   ],
   "execution_count": 50
  },
  {
   "cell_type": "code",
   "id": "90ac8fb1",
   "metadata": {
    "ExecuteTime": {
     "end_time": "2025-06-16T11:12:14.485139Z",
     "start_time": "2025-06-16T11:12:14.479156Z"
    }
   },
   "source": [
    "movies.drop(columns=[\"video_release_date\"], inplace=True)   #remove video release date as all are null"
   ],
   "outputs": [],
   "execution_count": 51
  },
  {
   "cell_type": "code",
   "id": "429a2245",
   "metadata": {
    "ExecuteTime": {
     "end_time": "2025-06-16T11:12:14.663645Z",
     "start_time": "2025-06-16T11:12:14.655794Z"
    }
   },
   "source": [
    "print(movies.isnull().sum())"
   ],
   "outputs": [
    {
     "name": "stdout",
     "output_type": "stream",
     "text": [
      "movie_id        0\n",
      "title           0\n",
      "release_date    0\n",
      "imdb_url        2\n",
      "unknown         0\n",
      "Action          0\n",
      "Adventure       0\n",
      "Animation       0\n",
      "Children's      0\n",
      "Comedy          0\n",
      "Crime           0\n",
      "Documentary     0\n",
      "Drama           0\n",
      "Fantasy         0\n",
      "Film-Noir       0\n",
      "Horror          0\n",
      "Musical         0\n",
      "Mystery         0\n",
      "Romance         0\n",
      "Sci-Fi          0\n",
      "Thriller        0\n",
      "War             0\n",
      "Western         0\n",
      "dtype: int64\n"
     ]
    }
   ],
   "execution_count": 52
  },
  {
   "cell_type": "code",
   "id": "2edfa4bb",
   "metadata": {
    "ExecuteTime": {
     "end_time": "2025-06-16T11:12:14.791410Z",
     "start_time": "2025-06-16T11:12:14.779612Z"
    }
   },
   "source": [
    "movies[\"imdb_url\"]=movies[\"imdb_url\"].fillna(value=\"none\")   #Fill the missing url with a value none\n",
    "movies.isnull().sum()"
   ],
   "outputs": [
    {
     "data": {
      "text/plain": [
       "movie_id        0\n",
       "title           0\n",
       "release_date    0\n",
       "imdb_url        0\n",
       "unknown         0\n",
       "Action          0\n",
       "Adventure       0\n",
       "Animation       0\n",
       "Children's      0\n",
       "Comedy          0\n",
       "Crime           0\n",
       "Documentary     0\n",
       "Drama           0\n",
       "Fantasy         0\n",
       "Film-Noir       0\n",
       "Horror          0\n",
       "Musical         0\n",
       "Mystery         0\n",
       "Romance         0\n",
       "Sci-Fi          0\n",
       "Thriller        0\n",
       "War             0\n",
       "Western         0\n",
       "dtype: int64"
      ]
     },
     "execution_count": 53,
     "metadata": {},
     "output_type": "execute_result"
    }
   ],
   "execution_count": 53
  },
  {
   "cell_type": "code",
   "id": "8b27e7ea",
   "metadata": {
    "ExecuteTime": {
     "end_time": "2025-06-16T11:12:14.945892Z",
     "start_time": "2025-06-16T11:12:14.930726Z"
    }
   },
   "source": [
    "movies.info()"
   ],
   "outputs": [
    {
     "name": "stdout",
     "output_type": "stream",
     "text": [
      "<class 'pandas.core.frame.DataFrame'>\n",
      "Index: 1681 entries, 0 to 1681\n",
      "Data columns (total 23 columns):\n",
      " #   Column        Non-Null Count  Dtype \n",
      "---  ------        --------------  ----- \n",
      " 0   movie_id      1681 non-null   int64 \n",
      " 1   title         1681 non-null   object\n",
      " 2   release_date  1681 non-null   object\n",
      " 3   imdb_url      1681 non-null   object\n",
      " 4   unknown       1681 non-null   int64 \n",
      " 5   Action        1681 non-null   int64 \n",
      " 6   Adventure     1681 non-null   int64 \n",
      " 7   Animation     1681 non-null   int64 \n",
      " 8   Children's    1681 non-null   int64 \n",
      " 9   Comedy        1681 non-null   int64 \n",
      " 10  Crime         1681 non-null   int64 \n",
      " 11  Documentary   1681 non-null   int64 \n",
      " 12  Drama         1681 non-null   int64 \n",
      " 13  Fantasy       1681 non-null   int64 \n",
      " 14  Film-Noir     1681 non-null   int64 \n",
      " 15  Horror        1681 non-null   int64 \n",
      " 16  Musical       1681 non-null   int64 \n",
      " 17  Mystery       1681 non-null   int64 \n",
      " 18  Romance       1681 non-null   int64 \n",
      " 19  Sci-Fi        1681 non-null   int64 \n",
      " 20  Thriller      1681 non-null   int64 \n",
      " 21  War           1681 non-null   int64 \n",
      " 22  Western       1681 non-null   int64 \n",
      "dtypes: int64(20), object(3)\n",
      "memory usage: 315.2+ KB\n"
     ]
    }
   ],
   "execution_count": 54
  },
  {
   "cell_type": "code",
   "id": "a2950511",
   "metadata": {
    "ExecuteTime": {
     "end_time": "2025-06-16T11:12:15.230027Z",
     "start_time": "2025-06-16T11:12:15.214450Z"
    }
   },
   "source": [
    "movies[\"release_date\"]=pd.to_datetime(movies[\"release_date\"])\n",
    "print(movies[\"release_date\"].head())"
   ],
   "outputs": [
    {
     "name": "stdout",
     "output_type": "stream",
     "text": [
      "0   1995-01-01\n",
      "1   1995-01-01\n",
      "2   1995-01-01\n",
      "3   1995-01-01\n",
      "4   1995-01-01\n",
      "Name: release_date, dtype: datetime64[ns]\n"
     ]
    }
   ],
   "execution_count": 55
  },
  {
   "cell_type": "code",
   "id": "10f12bc5",
   "metadata": {
    "ExecuteTime": {
     "end_time": "2025-06-16T11:12:15.400302Z",
     "start_time": "2025-06-16T11:12:15.386072Z"
    }
   },
   "source": [
    "movies.info()"
   ],
   "outputs": [
    {
     "name": "stdout",
     "output_type": "stream",
     "text": [
      "<class 'pandas.core.frame.DataFrame'>\n",
      "Index: 1681 entries, 0 to 1681\n",
      "Data columns (total 23 columns):\n",
      " #   Column        Non-Null Count  Dtype         \n",
      "---  ------        --------------  -----         \n",
      " 0   movie_id      1681 non-null   int64         \n",
      " 1   title         1681 non-null   object        \n",
      " 2   release_date  1681 non-null   datetime64[ns]\n",
      " 3   imdb_url      1681 non-null   object        \n",
      " 4   unknown       1681 non-null   int64         \n",
      " 5   Action        1681 non-null   int64         \n",
      " 6   Adventure     1681 non-null   int64         \n",
      " 7   Animation     1681 non-null   int64         \n",
      " 8   Children's    1681 non-null   int64         \n",
      " 9   Comedy        1681 non-null   int64         \n",
      " 10  Crime         1681 non-null   int64         \n",
      " 11  Documentary   1681 non-null   int64         \n",
      " 12  Drama         1681 non-null   int64         \n",
      " 13  Fantasy       1681 non-null   int64         \n",
      " 14  Film-Noir     1681 non-null   int64         \n",
      " 15  Horror        1681 non-null   int64         \n",
      " 16  Musical       1681 non-null   int64         \n",
      " 17  Mystery       1681 non-null   int64         \n",
      " 18  Romance       1681 non-null   int64         \n",
      " 19  Sci-Fi        1681 non-null   int64         \n",
      " 20  Thriller      1681 non-null   int64         \n",
      " 21  War           1681 non-null   int64         \n",
      " 22  Western       1681 non-null   int64         \n",
      "dtypes: datetime64[ns](1), int64(20), object(2)\n",
      "memory usage: 315.2+ KB\n"
     ]
    }
   ],
   "execution_count": 56
  },
  {
   "cell_type": "code",
   "id": "f37840eb",
   "metadata": {
    "ExecuteTime": {
     "end_time": "2025-06-16T11:12:15.586801Z",
     "start_time": "2025-06-16T11:12:15.569609Z"
    }
   },
   "source": [
    "ratings[~ratings[\"movie_id\"].isin(movies[\"movie_id\"])]  #ratings for the movie that was removed"
   ],
   "outputs": [
    {
     "data": {
      "text/plain": [
       "       user_id  movie_id  rating  timestamp\n",
       "2172       130       267       5  875801239\n",
       "3781         5       267       4  875635064\n",
       "7245       268       267       3  875742077\n",
       "12475      297       267       3  875409139\n",
       "14756      319       267       4  875707690\n",
       "15292        1       267       4  875692955\n",
       "49295      532       267       3  875441348\n",
       "93523      833       267       1  875655669\n",
       "99723      422       267       4  875655986"
      ],
      "text/html": [
       "<div>\n",
       "<style scoped>\n",
       "    .dataframe tbody tr th:only-of-type {\n",
       "        vertical-align: middle;\n",
       "    }\n",
       "\n",
       "    .dataframe tbody tr th {\n",
       "        vertical-align: top;\n",
       "    }\n",
       "\n",
       "    .dataframe thead th {\n",
       "        text-align: right;\n",
       "    }\n",
       "</style>\n",
       "<table border=\"1\" class=\"dataframe\">\n",
       "  <thead>\n",
       "    <tr style=\"text-align: right;\">\n",
       "      <th></th>\n",
       "      <th>user_id</th>\n",
       "      <th>movie_id</th>\n",
       "      <th>rating</th>\n",
       "      <th>timestamp</th>\n",
       "    </tr>\n",
       "  </thead>\n",
       "  <tbody>\n",
       "    <tr>\n",
       "      <th>2172</th>\n",
       "      <td>130</td>\n",
       "      <td>267</td>\n",
       "      <td>5</td>\n",
       "      <td>875801239</td>\n",
       "    </tr>\n",
       "    <tr>\n",
       "      <th>3781</th>\n",
       "      <td>5</td>\n",
       "      <td>267</td>\n",
       "      <td>4</td>\n",
       "      <td>875635064</td>\n",
       "    </tr>\n",
       "    <tr>\n",
       "      <th>7245</th>\n",
       "      <td>268</td>\n",
       "      <td>267</td>\n",
       "      <td>3</td>\n",
       "      <td>875742077</td>\n",
       "    </tr>\n",
       "    <tr>\n",
       "      <th>12475</th>\n",
       "      <td>297</td>\n",
       "      <td>267</td>\n",
       "      <td>3</td>\n",
       "      <td>875409139</td>\n",
       "    </tr>\n",
       "    <tr>\n",
       "      <th>14756</th>\n",
       "      <td>319</td>\n",
       "      <td>267</td>\n",
       "      <td>4</td>\n",
       "      <td>875707690</td>\n",
       "    </tr>\n",
       "    <tr>\n",
       "      <th>15292</th>\n",
       "      <td>1</td>\n",
       "      <td>267</td>\n",
       "      <td>4</td>\n",
       "      <td>875692955</td>\n",
       "    </tr>\n",
       "    <tr>\n",
       "      <th>49295</th>\n",
       "      <td>532</td>\n",
       "      <td>267</td>\n",
       "      <td>3</td>\n",
       "      <td>875441348</td>\n",
       "    </tr>\n",
       "    <tr>\n",
       "      <th>93523</th>\n",
       "      <td>833</td>\n",
       "      <td>267</td>\n",
       "      <td>1</td>\n",
       "      <td>875655669</td>\n",
       "    </tr>\n",
       "    <tr>\n",
       "      <th>99723</th>\n",
       "      <td>422</td>\n",
       "      <td>267</td>\n",
       "      <td>4</td>\n",
       "      <td>875655986</td>\n",
       "    </tr>\n",
       "  </tbody>\n",
       "</table>\n",
       "</div>"
      ]
     },
     "execution_count": 57,
     "metadata": {},
     "output_type": "execute_result"
    }
   ],
   "execution_count": 57
  },
  {
   "cell_type": "code",
   "id": "bebba35b",
   "metadata": {
    "ExecuteTime": {
     "end_time": "2025-06-16T11:12:15.749773Z",
     "start_time": "2025-06-16T11:12:15.734580Z"
    }
   },
   "source": [
    "ratings=ratings[ratings[\"movie_id\"].isin(movies[\"movie_id\"])]\n",
    "ratings.loc[ratings[\"movie_id\"]==267]   #Empty row means successful deletion of ratings for the deleted movie"
   ],
   "outputs": [
    {
     "data": {
      "text/plain": [
       "Empty DataFrame\n",
       "Columns: [user_id, movie_id, rating, timestamp]\n",
       "Index: []"
      ],
      "text/html": [
       "<div>\n",
       "<style scoped>\n",
       "    .dataframe tbody tr th:only-of-type {\n",
       "        vertical-align: middle;\n",
       "    }\n",
       "\n",
       "    .dataframe tbody tr th {\n",
       "        vertical-align: top;\n",
       "    }\n",
       "\n",
       "    .dataframe thead th {\n",
       "        text-align: right;\n",
       "    }\n",
       "</style>\n",
       "<table border=\"1\" class=\"dataframe\">\n",
       "  <thead>\n",
       "    <tr style=\"text-align: right;\">\n",
       "      <th></th>\n",
       "      <th>user_id</th>\n",
       "      <th>movie_id</th>\n",
       "      <th>rating</th>\n",
       "      <th>timestamp</th>\n",
       "    </tr>\n",
       "  </thead>\n",
       "  <tbody>\n",
       "  </tbody>\n",
       "</table>\n",
       "</div>"
      ]
     },
     "execution_count": 58,
     "metadata": {},
     "output_type": "execute_result"
    }
   ],
   "execution_count": 58
  },
  {
   "cell_type": "code",
   "id": "6b342bb9",
   "metadata": {
    "ExecuteTime": {
     "end_time": "2025-06-16T11:12:16.006362Z",
     "start_time": "2025-06-16T11:12:15.991513Z"
    }
   },
   "source": [
    "ratings.drop('timestamp',axis=1,inplace=True)\n",
    "ratings.head()"
   ],
   "outputs": [
    {
     "data": {
      "text/plain": [
       "   user_id  movie_id  rating\n",
       "0      196       242       3\n",
       "1      186       302       3\n",
       "2       22       377       1\n",
       "3      244        51       2\n",
       "4      166       346       1"
      ],
      "text/html": [
       "<div>\n",
       "<style scoped>\n",
       "    .dataframe tbody tr th:only-of-type {\n",
       "        vertical-align: middle;\n",
       "    }\n",
       "\n",
       "    .dataframe tbody tr th {\n",
       "        vertical-align: top;\n",
       "    }\n",
       "\n",
       "    .dataframe thead th {\n",
       "        text-align: right;\n",
       "    }\n",
       "</style>\n",
       "<table border=\"1\" class=\"dataframe\">\n",
       "  <thead>\n",
       "    <tr style=\"text-align: right;\">\n",
       "      <th></th>\n",
       "      <th>user_id</th>\n",
       "      <th>movie_id</th>\n",
       "      <th>rating</th>\n",
       "    </tr>\n",
       "  </thead>\n",
       "  <tbody>\n",
       "    <tr>\n",
       "      <th>0</th>\n",
       "      <td>196</td>\n",
       "      <td>242</td>\n",
       "      <td>3</td>\n",
       "    </tr>\n",
       "    <tr>\n",
       "      <th>1</th>\n",
       "      <td>186</td>\n",
       "      <td>302</td>\n",
       "      <td>3</td>\n",
       "    </tr>\n",
       "    <tr>\n",
       "      <th>2</th>\n",
       "      <td>22</td>\n",
       "      <td>377</td>\n",
       "      <td>1</td>\n",
       "    </tr>\n",
       "    <tr>\n",
       "      <th>3</th>\n",
       "      <td>244</td>\n",
       "      <td>51</td>\n",
       "      <td>2</td>\n",
       "    </tr>\n",
       "    <tr>\n",
       "      <th>4</th>\n",
       "      <td>166</td>\n",
       "      <td>346</td>\n",
       "      <td>1</td>\n",
       "    </tr>\n",
       "  </tbody>\n",
       "</table>\n",
       "</div>"
      ]
     },
     "execution_count": 59,
     "metadata": {},
     "output_type": "execute_result"
    }
   ],
   "execution_count": 59
  },
  {
   "cell_type": "markdown",
   "id": "c2f33b93",
   "metadata": {},
   "source": [
    "Exploratory Data Analysis"
   ]
  },
  {
   "cell_type": "code",
   "id": "3d122433",
   "metadata": {
    "ExecuteTime": {
     "end_time": "2025-06-16T11:12:16.433125Z",
     "start_time": "2025-06-16T11:12:16.428405Z"
    }
   },
   "source": [
    "import matplotlib.pyplot as plt\n",
    "import seaborn as sns"
   ],
   "outputs": [],
   "execution_count": 60
  },
  {
   "cell_type": "code",
   "id": "f47cdb6b",
   "metadata": {
    "ExecuteTime": {
     "end_time": "2025-06-16T11:12:17.018753Z",
     "start_time": "2025-06-16T11:12:16.864369Z"
    }
   },
   "source": [
    "# Ratings distribution\n",
    "ratings['rating'].value_counts().sort_index().plot(kind='bar')\n",
    "plt.title('Rating Distribution')\n",
    "plt.xlabel('Rating')\n",
    "plt.ylabel('Frequency')\n",
    "plt.show()\n"
   ],
   "outputs": [
    {
     "data": {
      "text/plain": [
       "<Figure size 640x480 with 1 Axes>"
      ],
      "image/png": "[encoded data removed]"
     },
     "metadata": {},
     "output_type": "display_data"
    }
   ],
   "execution_count": 61
  },
  {
   "cell_type": "code",
   "id": "aa31ae3d",
   "metadata": {
    "ExecuteTime": {
     "end_time": "2025-06-16T11:12:17.555978Z",
     "start_time": "2025-06-16T11:12:17.160651Z"
    }
   },
   "source": [
    "#Ratings per user\n",
    "ratings_per_user = ratings.groupby('user_id').size().sort_index()\n",
    "ratings_per_user.plot(kind='hist', bins=50)\n",
    "plt.title('Ratings per User')\n",
    "plt.xlabel('Number of Ratings')\n",
    "plt.show()"
   ],
   "outputs": [
    {
     "data": {
      "text/plain": [
       "<Figure size 640x480 with 1 Axes>"
      ],
      "image/png": "[encoded data removed]"
     },
     "metadata": {},
     "output_type": "display_data"
    }
   ],
   "execution_count": 62
  },
  {
   "cell_type": "code",
   "id": "d89733fb",
   "metadata": {
    "ExecuteTime": {
     "end_time": "2025-06-16T11:12:17.778170Z",
     "start_time": "2025-06-16T11:12:17.608316Z"
    }
   },
   "source": [
    "# Ratings per movie\n",
    "ratings_per_movie = ratings.groupby('movie_id').size()\n",
    "ratings_per_movie.plot(kind='hist', bins=50)\n",
    "plt.title('Ratings per Movie')\n",
    "plt.xlabel('Number of Ratings')\n",
    "plt.show()"
   ],
   "outputs": [
    {
     "data": {
      "text/plain": [
       "<Figure size 640x480 with 1 Axes>"
      ],
      "image/png": "[encoded data removed]"
     },
     "metadata": {},
     "output_type": "display_data"
    }
   ],
   "execution_count": 63
  },
  {
   "cell_type": "code",
   "id": "8f933fca",
   "metadata": {
    "ExecuteTime": {
     "end_time": "2025-06-16T11:12:17.907392Z",
     "start_time": "2025-06-16T11:12:17.841389Z"
    }
   },
   "source": [
    "# Basic statistics of ratings dataframe\n",
    "print(ratings.isnull().sum())\n",
    "print(\"*\"*50)\n",
    "print(ratings.info())\n",
    "print(\"*\"*50)\n",
    "print(ratings.describe())"
   ],
   "outputs": [
    {
     "name": "stdout",
     "output_type": "stream",
     "text": [
      "user_id     0\n",
      "movie_id    0\n",
      "rating      0\n",
      "dtype: int64\n",
      "**************************************************\n",
      "<class 'pandas.core.frame.DataFrame'>\n",
      "Index: 99991 entries, 0 to 99999\n",
      "Data columns (total 3 columns):\n",
      " #   Column    Non-Null Count  Dtype\n",
      "---  ------    --------------  -----\n",
      " 0   user_id   99991 non-null  int64\n",
      " 1   movie_id  99991 non-null  int64\n",
      " 2   rating    99991 non-null  int64\n",
      "dtypes: int64(3)\n",
      "memory usage: 3.1 MB\n",
      "None\n",
      "**************************************************\n",
      "            user_id      movie_id        rating\n",
      "count  99991.000000  99991.000000  99991.000000\n",
      "mean     462.498305    425.544399      3.529868\n",
      "std      266.612120    330.809824      1.125679\n",
      "min        1.000000      1.000000      1.000000\n",
      "25%      254.000000    175.000000      3.000000\n",
      "50%      447.000000    322.000000      4.000000\n",
      "75%      682.000000    631.000000      4.000000\n",
      "max      943.000000   1682.000000      5.000000\n"
     ]
    }
   ],
   "execution_count": 64
  },
  {
   "cell_type": "code",
   "id": "4b4bb6b7",
   "metadata": {
    "ExecuteTime": {
     "end_time": "2025-06-16T11:12:17.967019Z",
     "start_time": "2025-06-16T11:12:17.959586Z"
    }
   },
   "source": [
    "print(\"Exploring the movies dataframe\")\n",
    "genre_columns=movies.columns[4:]\n",
    "print(\"Genre columns => \",genre_columns)"
   ],
   "outputs": [
    {
     "name": "stdout",
     "output_type": "stream",
     "text": [
      "Exploring the movies dataframe\n",
      "Genre columns =>  Index(['unknown', 'Action', 'Adventure', 'Animation', 'Children's', 'Comedy',\n",
      "       'Crime', 'Documentary', 'Drama', 'Fantasy', 'Film-Noir', 'Horror',\n",
      "       'Musical', 'Mystery', 'Romance', 'Sci-Fi', 'Thriller', 'War',\n",
      "       'Western'],\n",
      "      dtype='object')\n"
     ]
    }
   ],
   "execution_count": 65
  },
  {
   "cell_type": "code",
   "id": "4dbf28e2",
   "metadata": {
    "ExecuteTime": {
     "end_time": "2025-06-16T11:12:18.280152Z",
     "start_time": "2025-06-16T11:12:18.047010Z"
    }
   },
   "source": [
    "# Sum of movies in each genre (A movie can belong to several genre)\n",
    "genre_counts = movies[genre_columns].sum().sort_values().plot(kind=\"bar\")"
   ],
   "outputs": [
    {
     "data": {
      "text/plain": [
       "<Figure size 640x480 with 1 Axes>"
      ],
      "image/png": "[encoded data removed]"
     },
     "metadata": {},
     "output_type": "display_data"
    }
   ],
   "execution_count": 66
  },
  {
   "cell_type": "code",
   "id": "0d247836",
   "metadata": {
    "ExecuteTime": {
     "end_time": "2025-06-16T11:12:18.409636Z",
     "start_time": "2025-06-16T11:12:18.326380Z"
    }
   },
   "source": [
    "# Load the ratings file\n",
    "ratings = pd.read_csv('ml-100k/u.data', sep='\\t', names=['user_id', 'movie_id', 'rating', 'timestamp'])\n",
    "\n",
    "ratings.head()"
   ],
   "outputs": [
    {
     "data": {
      "text/plain": [
       "   user_id  movie_id  rating  timestamp\n",
       "0      196       242       3  881250949\n",
       "1      186       302       3  891717742\n",
       "2       22       377       1  878887116\n",
       "3      244        51       2  880606923\n",
       "4      166       346       1  886397596"
      ],
      "text/html": [
       "<div>\n",
       "<style scoped>\n",
       "    .dataframe tbody tr th:only-of-type {\n",
       "        vertical-align: middle;\n",
       "    }\n",
       "\n",
       "    .dataframe tbody tr th {\n",
       "        vertical-align: top;\n",
       "    }\n",
       "\n",
       "    .dataframe thead th {\n",
       "        text-align: right;\n",
       "    }\n",
       "</style>\n",
       "<table border=\"1\" class=\"dataframe\">\n",
       "  <thead>\n",
       "    <tr style=\"text-align: right;\">\n",
       "      <th></th>\n",
       "      <th>user_id</th>\n",
       "      <th>movie_id</th>\n",
       "      <th>rating</th>\n",
       "      <th>timestamp</th>\n",
       "    </tr>\n",
       "  </thead>\n",
       "  <tbody>\n",
       "    <tr>\n",
       "      <th>0</th>\n",
       "      <td>196</td>\n",
       "      <td>242</td>\n",
       "      <td>3</td>\n",
       "      <td>881250949</td>\n",
       "    </tr>\n",
       "    <tr>\n",
       "      <th>1</th>\n",
       "      <td>186</td>\n",
       "      <td>302</td>\n",
       "      <td>3</td>\n",
       "      <td>891717742</td>\n",
       "    </tr>\n",
       "    <tr>\n",
       "      <th>2</th>\n",
       "      <td>22</td>\n",
       "      <td>377</td>\n",
       "      <td>1</td>\n",
       "      <td>878887116</td>\n",
       "    </tr>\n",
       "    <tr>\n",
       "      <th>3</th>\n",
       "      <td>244</td>\n",
       "      <td>51</td>\n",
       "      <td>2</td>\n",
       "      <td>880606923</td>\n",
       "    </tr>\n",
       "    <tr>\n",
       "      <th>4</th>\n",
       "      <td>166</td>\n",
       "      <td>346</td>\n",
       "      <td>1</td>\n",
       "      <td>886397596</td>\n",
       "    </tr>\n",
       "  </tbody>\n",
       "</table>\n",
       "</div>"
      ]
     },
     "execution_count": 67,
     "metadata": {},
     "output_type": "execute_result"
    }
   ],
   "execution_count": 67
  },
  {
   "metadata": {
    "ExecuteTime": {
     "end_time": "2025-06-16T11:12:18.818930Z",
     "start_time": "2025-06-16T11:12:18.510478Z"
    }
   },
   "cell_type": "code",
   "source": [
    "ratings_per_movie = ratings.groupby('movie_id').size()\n",
    "\n",
    "plt.figure(figsize=(10,6))\n",
    "ratings_per_movie.plot(kind='hist', bins=50, color='skyblue', edgecolor='black')\n",
    "plt.title('Ratings per Movie')\n",
    "plt.xlabel('Number of Ratings')\n",
    "plt.ylabel('Number of Movies')\n",
    "plt.grid(True)\n",
    "plt.tight_layout()\n",
    "plt.show()\n"
   ],
   "id": "436c86a676080369",
   "outputs": [
    {
     "data": {
      "text/plain": [
       "<Figure size 1000x600 with 1 Axes>"
      ],
      "image/png": "[encoded data removed]"
     },
     "metadata": {},
     "output_type": "display_data"
    }
   ],
   "execution_count": 68
  },
  {
   "metadata": {
    "ExecuteTime": {
     "end_time": "2025-06-16T11:12:18.947069Z",
     "start_time": "2025-06-16T11:12:18.913147Z"
    }
   },
   "cell_type": "code",
   "source": [
    "movies = pd.read_csv('ml-100k/u.item', sep='|', encoding='latin-1', header=None, usecols=[0,1], names=['movie_id', 'title'])\n",
    "\n",
    "# Join with ratings count\n",
    "ratings_count = ratings.groupby('movie_id').size().reset_index(name='count')\n",
    "top_movies = ratings_count.sort_values(by='count', ascending=False).head(10)\n",
    "\n",
    "# Merge to get titles\n",
    "top_movies = pd.merge(top_movies, movies, on='movie_id')\n",
    "print(top_movies[['title', 'count']])\n"
   ],
   "id": "131dc9480dfff866",
   "outputs": [
    {
     "name": "stdout",
     "output_type": "stream",
     "text": [
      "                           title  count\n",
      "0               Star Wars (1977)    583\n",
      "1                 Contact (1997)    509\n",
      "2                   Fargo (1996)    508\n",
      "3      Return of the Jedi (1983)    507\n",
      "4               Liar Liar (1997)    485\n",
      "5    English Patient, The (1996)    481\n",
      "6                  Scream (1996)    478\n",
      "7               Toy Story (1995)    452\n",
      "8           Air Force One (1997)    431\n",
      "9  Independence Day (ID4) (1996)    429\n"
     ]
    }
   ],
   "execution_count": 69
  },
  {
   "metadata": {
    "ExecuteTime": {
     "end_time": "2025-06-16T11:12:19.222178Z",
     "start_time": "2025-06-16T11:12:19.167170Z"
    }
   },
   "cell_type": "code",
   "source": [
    "# Load ratings data\n",
    "ratings = pd.read_csv('ml-100k/u.data', sep='\\t', names=['user_id', 'movie_id', 'rating', 'timestamp'])"
   ],
   "id": "9325341d94ab5849",
   "outputs": [],
   "execution_count": 70
  },
  {
   "metadata": {
    "ExecuteTime": {
     "end_time": "2025-06-16T11:12:19.361117Z",
     "start_time": "2025-06-16T11:12:19.346074Z"
    }
   },
   "cell_type": "code",
   "source": [
    "# Load movie data (only movie_id and title)\n",
    "movies = pd.read_csv(\n",
    "    'ml-100k/u.item',\n",
    "    sep='|',\n",
    "    encoding='latin-1',\n",
    "    header=None,\n",
    "    usecols=[0, 1],\n",
    "    names=['movie_id', 'title']\n",
    ")"
   ],
   "id": "ebd8703d92176860",
   "outputs": [],
   "execution_count": 71
  },
  {
   "metadata": {
    "ExecuteTime": {
     "end_time": "2025-06-16T11:12:19.521416Z",
     "start_time": "2025-06-16T11:12:19.481762Z"
    }
   },
   "cell_type": "code",
   "source": [
    "# Merge ratings with movie titles\n",
    "merged_df = pd.merge(ratings, movies, on='movie_id')\n",
    "\n",
    "# Show first few rows\n",
    "merged_df.head()"
   ],
   "id": "747ab33d36aa68bc",
   "outputs": [
    {
     "data": {
      "text/plain": [
       "   user_id  movie_id  rating  timestamp                       title\n",
       "0      196       242       3  881250949                Kolya (1996)\n",
       "1      186       302       3  891717742    L.A. Confidential (1997)\n",
       "2       22       377       1  878887116         Heavyweights (1994)\n",
       "3      244        51       2  880606923  Legends of the Fall (1994)\n",
       "4      166       346       1  886397596         Jackie Brown (1997)"
      ],
      "text/html": [
       "<div>\n",
       "<style scoped>\n",
       "    .dataframe tbody tr th:only-of-type {\n",
       "        vertical-align: middle;\n",
       "    }\n",
       "\n",
       "    .dataframe tbody tr th {\n",
       "        vertical-align: top;\n",
       "    }\n",
       "\n",
       "    .dataframe thead th {\n",
       "        text-align: right;\n",
       "    }\n",
       "</style>\n",
       "<table border=\"1\" class=\"dataframe\">\n",
       "  <thead>\n",
       "    <tr style=\"text-align: right;\">\n",
       "      <th></th>\n",
       "      <th>user_id</th>\n",
       "      <th>movie_id</th>\n",
       "      <th>rating</th>\n",
       "      <th>timestamp</th>\n",
       "      <th>title</th>\n",
       "    </tr>\n",
       "  </thead>\n",
       "  <tbody>\n",
       "    <tr>\n",
       "      <th>0</th>\n",
       "      <td>196</td>\n",
       "      <td>242</td>\n",
       "      <td>3</td>\n",
       "      <td>881250949</td>\n",
       "      <td>Kolya (1996)</td>\n",
       "    </tr>\n",
       "    <tr>\n",
       "      <th>1</th>\n",
       "      <td>186</td>\n",
       "      <td>302</td>\n",
       "      <td>3</td>\n",
       "      <td>891717742</td>\n",
       "      <td>L.A. Confidential (1997)</td>\n",
       "    </tr>\n",
       "    <tr>\n",
       "      <th>2</th>\n",
       "      <td>22</td>\n",
       "      <td>377</td>\n",
       "      <td>1</td>\n",
       "      <td>878887116</td>\n",
       "      <td>Heavyweights (1994)</td>\n",
       "    </tr>\n",
       "    <tr>\n",
       "      <th>3</th>\n",
       "      <td>244</td>\n",
       "      <td>51</td>\n",
       "      <td>2</td>\n",
       "      <td>880606923</td>\n",
       "      <td>Legends of the Fall (1994)</td>\n",
       "    </tr>\n",
       "    <tr>\n",
       "      <th>4</th>\n",
       "      <td>166</td>\n",
       "      <td>346</td>\n",
       "      <td>1</td>\n",
       "      <td>886397596</td>\n",
       "      <td>Jackie Brown (1997)</td>\n",
       "    </tr>\n",
       "  </tbody>\n",
       "</table>\n",
       "</div>"
      ]
     },
     "execution_count": 72,
     "metadata": {},
     "output_type": "execute_result"
    }
   ],
   "execution_count": 72
  },
  {
   "metadata": {
    "ExecuteTime": {
     "end_time": "2025-06-16T11:12:19.663951Z",
     "start_time": "2025-06-16T11:12:19.644550Z"
    }
   },
   "cell_type": "code",
   "source": [
    "top_rated = merged_df['title'].value_counts().head(10)\n",
    "print(top_rated)"
   ],
   "id": "3f31b90ddc941886",
   "outputs": [
    {
     "name": "stdout",
     "output_type": "stream",
     "text": [
      "title\n",
      "Star Wars (1977)                 583\n",
      "Contact (1997)                   509\n",
      "Fargo (1996)                     508\n",
      "Return of the Jedi (1983)        507\n",
      "Liar Liar (1997)                 485\n",
      "English Patient, The (1996)      481\n",
      "Scream (1996)                    478\n",
      "Toy Story (1995)                 452\n",
      "Air Force One (1997)             431\n",
      "Independence Day (ID4) (1996)    429\n",
      "Name: count, dtype: int64\n"
     ]
    }
   ],
   "execution_count": 73
  },
  {
   "metadata": {
    "ExecuteTime": {
     "end_time": "2025-06-16T11:12:19.928515Z",
     "start_time": "2025-06-16T11:12:19.912945Z"
    }
   },
   "cell_type": "code",
   "source": "top_10 = merged_df['title'].value_counts().head(10)",
   "id": "68a238a220157444",
   "outputs": [],
   "execution_count": 74
  },
  {
   "metadata": {
    "ExecuteTime": {
     "end_time": "2025-06-16T11:12:20.524121Z",
     "start_time": "2025-06-16T11:12:20.165883Z"
    }
   },
   "cell_type": "code",
   "source": [
    "plt.figure(figsize=(10, 6))\n",
    "top_10.plot(kind='barh', color='skyblue', edgecolor='black')\n",
    "plt.xlabel('Number of Ratings')\n",
    "plt.title('Top 10 Most Rated Movies')\n",
    "plt.gca().invert_yaxis()  # Most rated at top\n",
    "plt.tight_layout()\n",
    "plt.show()"
   ],
   "id": "59243b8c4889c537",
   "outputs": [
    {
     "data": {
      "text/plain": [
       "<Figure size 1000x600 with 1 Axes>"
      ],
      "image/png": "[encoded data removed]"
     },
     "metadata": {},
     "output_type": "display_data"
    }
   ],
   "execution_count": 75
  }
 ],
 "metadata": {
  "kernelspec": {
   "display_name": "pyenv",
   "language": "python",
   "name": "python3"
  },
  "language_info": {
   "codemirror_mode": {
    "name": "ipython",
    "version": 3
   },
   "file_extension": ".py",
   "mimetype": "text/x-python",
   "name": "python",
   "nbconvert_exporter": "python",
   "pygments_lexer": "ipython3",
   "version": "3.13.2"
  }
 },
 "nbformat": 4,
 "nbformat_minor": 5
}
