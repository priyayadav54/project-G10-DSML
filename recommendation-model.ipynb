{
 "cells": [
  {
   "cell_type": "markdown",
   "id": "e1e5b3d5",
   "metadata": {},
   "source": [
    "Movie recommendation system"
   ]
  },
  {
   "cell_type": "code",
   "execution_count": 1,
   "id": "459c82bd",
   "metadata": {},
   "outputs": [],
   "source": [
    "import pandas as pd\n",
    "import numpy as np"
   ]
  },
  {
   "cell_type": "code",
   "execution_count": 2,
   "id": "6ceef56e",
   "metadata": {},
   "outputs": [
    {
     "data": {
      "text/html": [
       "<div>\n",
       "<style scoped>\n",
       "    .dataframe tbody tr th:only-of-type {\n",
       "        vertical-align: middle;\n",
       "    }\n",
       "\n",
       "    .dataframe tbody tr th {\n",
       "        vertical-align: top;\n",
       "    }\n",
       "\n",
       "    .dataframe thead th {\n",
       "        text-align: right;\n",
       "    }\n",
       "</style>\n",
       "<table border=\"1\" class=\"dataframe\">\n",
       "  <thead>\n",
       "    <tr style=\"text-align: right;\">\n",
       "      <th></th>\n",
       "      <th>user_id</th>\n",
       "      <th>movie_id</th>\n",
       "      <th>rating</th>\n",
       "      <th>timestamp</th>\n",
       "    </tr>\n",
       "  </thead>\n",
       "  <tbody>\n",
       "    <tr>\n",
       "      <th>0</th>\n",
       "      <td>196</td>\n",
       "      <td>242</td>\n",
       "      <td>3</td>\n",
       "      <td>881250949</td>\n",
       "    </tr>\n",
       "    <tr>\n",
       "      <th>1</th>\n",
       "      <td>186</td>\n",
       "      <td>302</td>\n",
       "      <td>3</td>\n",
       "      <td>891717742</td>\n",
       "    </tr>\n",
       "    <tr>\n",
       "      <th>2</th>\n",
       "      <td>22</td>\n",
       "      <td>377</td>\n",
       "      <td>1</td>\n",
       "      <td>878887116</td>\n",
       "    </tr>\n",
       "    <tr>\n",
       "      <th>3</th>\n",
       "      <td>244</td>\n",
       "      <td>51</td>\n",
       "      <td>2</td>\n",
       "      <td>880606923</td>\n",
       "    </tr>\n",
       "    <tr>\n",
       "      <th>4</th>\n",
       "      <td>166</td>\n",
       "      <td>346</td>\n",
       "      <td>1</td>\n",
       "      <td>886397596</td>\n",
       "    </tr>\n",
       "  </tbody>\n",
       "</table>\n",
       "</div>"
      ],
      "text/plain": [
       "   user_id  movie_id  rating  timestamp\n",
       "0      196       242       3  881250949\n",
       "1      186       302       3  891717742\n",
       "2       22       377       1  878887116\n",
       "3      244        51       2  880606923\n",
       "4      166       346       1  886397596"
      ]
     },
     "execution_count": 2,
     "metadata": {},
     "output_type": "execute_result"
    }
   ],
   "source": [
    "#User ratings dataframe\n",
    "ratings=pd.read_csv(\"./ml-100k/u.data\",sep=\"\\t\",names=[\"user_id\",\"movie_id\",\"rating\",\"timestamp\"])\n",
    "ratings.head()"
   ]
  },
  {
   "cell_type": "code",
   "execution_count": 3,
   "id": "c2d85054",
   "metadata": {},
   "outputs": [
    {
     "name": "stdout",
     "output_type": "stream",
     "text": [
      "   movie_id              title release_date  video_release_date  \\\n",
      "0         1   Toy Story (1995)  01-Jan-1995                 NaN   \n",
      "1         2   GoldenEye (1995)  01-Jan-1995                 NaN   \n",
      "2         3  Four Rooms (1995)  01-Jan-1995                 NaN   \n",
      "3         4  Get Shorty (1995)  01-Jan-1995                 NaN   \n",
      "4         5     Copycat (1995)  01-Jan-1995                 NaN   \n",
      "\n",
      "                                            imdb_url  unknown  Action  \\\n",
      "0  http://us.imdb.com/M/title-exact?Toy%20Story%2...        0       0   \n",
      "1  http://us.imdb.com/M/title-exact?GoldenEye%20(...        0       1   \n",
      "2  http://us.imdb.com/M/title-exact?Four%20Rooms%...        0       0   \n",
      "3  http://us.imdb.com/M/title-exact?Get%20Shorty%...        0       1   \n",
      "4  http://us.imdb.com/M/title-exact?Copycat%20(1995)        0       0   \n",
      "\n",
      "   Adventure  Animation  Children's  ...  Fantasy  Film-Noir  Horror  Musical  \\\n",
      "0          0          1           1  ...        0          0       0        0   \n",
      "1          1          0           0  ...        0          0       0        0   \n",
      "2          0          0           0  ...        0          0       0        0   \n",
      "3          0          0           0  ...        0          0       0        0   \n",
      "4          0          0           0  ...        0          0       0        0   \n",
      "\n",
      "   Mystery  Romance  Sci-Fi  Thriller  War  Western  \n",
      "0        0        0       0         0    0        0  \n",
      "1        0        0       0         1    0        0  \n",
      "2        0        0       0         1    0        0  \n",
      "3        0        0       0         0    0        0  \n",
      "4        0        0       0         1    0        0  \n",
      "\n",
      "[5 rows x 24 columns]\n"
     ]
    }
   ],
   "source": [
    "#Movies dataframe\n",
    "columns=[\"movie_id\",\"title\",\"release_date\",\"video_release_date\",\"imdb_url\",\"unknown\",\n",
    "         \"Action\",\"Adventure\",\"Animation\",\"Children\\'s\",\"Comedy\",\"Crime\",\"Documentary\",\n",
    "         \"Drama\",\"Fantasy\",\"Film-Noir\",\"Horror\",\"Musical\",\"Mystery\",\"Romance\",\"Sci-Fi\",\n",
    "         \"Thriller\",\"War\",\"Western\"]\n",
    "movies=pd.read_csv(\"./ml-100k/u.item\",sep=\"|\",names=columns,encoding='latin1')\n",
    "print(movies.head())"
   ]
  },
  {
   "cell_type": "code",
   "execution_count": 4,
   "id": "d437a4d4",
   "metadata": {},
   "outputs": [
    {
     "name": "stdout",
     "output_type": "stream",
     "text": [
      "   user_id  age gender  occupation zip_code\n",
      "0        1   24      M  technician    85711\n",
      "1        2   53      F       other    94043\n",
      "2        3   23      M      writer    32067\n",
      "3        4   24      M  technician    43537\n",
      "4        5   33      F       other    15213\n"
     ]
    }
   ],
   "source": [
    "#Users dataframe\n",
    "users=pd.read_csv(\"./ml-100k/u.user\",sep=\"|\",names=[\"user_id\",\"age\",\"gender\",\"occupation\",\"zip_code\"])\n",
    "print(users.head())"
   ]
  },
  {
   "cell_type": "code",
   "execution_count": 5,
   "id": "180c7bb0",
   "metadata": {},
   "outputs": [
    {
     "name": "stdout",
     "output_type": "stream",
     "text": [
      "<class 'pandas.core.frame.DataFrame'>\n",
      "RangeIndex: 100000 entries, 0 to 99999\n",
      "Data columns (total 4 columns):\n",
      " #   Column     Non-Null Count   Dtype\n",
      "---  ------     --------------   -----\n",
      " 0   user_id    100000 non-null  int64\n",
      " 1   movie_id   100000 non-null  int64\n",
      " 2   rating     100000 non-null  int64\n",
      " 3   timestamp  100000 non-null  int64\n",
      "dtypes: int64(4)\n",
      "memory usage: 3.1 MB\n",
      "None\n"
     ]
    }
   ],
   "source": [
    "print(ratings.info())"
   ]
  },
  {
   "cell_type": "code",
   "execution_count": 6,
   "id": "327c222d",
   "metadata": {},
   "outputs": [
    {
     "name": "stdout",
     "output_type": "stream",
     "text": [
      "<class 'pandas.core.frame.DataFrame'>\n",
      "RangeIndex: 1682 entries, 0 to 1681\n",
      "Data columns (total 24 columns):\n",
      " #   Column              Non-Null Count  Dtype  \n",
      "---  ------              --------------  -----  \n",
      " 0   movie_id            1682 non-null   int64  \n",
      " 1   title               1682 non-null   object \n",
      " 2   release_date        1681 non-null   object \n",
      " 3   video_release_date  0 non-null      float64\n",
      " 4   imdb_url            1679 non-null   object \n",
      " 5   unknown             1682 non-null   int64  \n",
      " 6   Action              1682 non-null   int64  \n",
      " 7   Adventure           1682 non-null   int64  \n",
      " 8   Animation           1682 non-null   int64  \n",
      " 9   Children's          1682 non-null   int64  \n",
      " 10  Comedy              1682 non-null   int64  \n",
      " 11  Crime               1682 non-null   int64  \n",
      " 12  Documentary         1682 non-null   int64  \n",
      " 13  Drama               1682 non-null   int64  \n",
      " 14  Fantasy             1682 non-null   int64  \n",
      " 15  Film-Noir           1682 non-null   int64  \n",
      " 16  Horror              1682 non-null   int64  \n",
      " 17  Musical             1682 non-null   int64  \n",
      " 18  Mystery             1682 non-null   int64  \n",
      " 19  Romance             1682 non-null   int64  \n",
      " 20  Sci-Fi              1682 non-null   int64  \n",
      " 21  Thriller            1682 non-null   int64  \n",
      " 22  War                 1682 non-null   int64  \n",
      " 23  Western             1682 non-null   int64  \n",
      "dtypes: float64(1), int64(20), object(3)\n",
      "memory usage: 315.5+ KB\n",
      "None\n"
     ]
    }
   ],
   "source": [
    "print(movies.info())"
   ]
  },
  {
   "cell_type": "code",
   "execution_count": 7,
   "id": "c9f3b3fc",
   "metadata": {},
   "outputs": [
    {
     "name": "stdout",
     "output_type": "stream",
     "text": [
      "<class 'pandas.core.frame.DataFrame'>\n",
      "RangeIndex: 943 entries, 0 to 942\n",
      "Data columns (total 5 columns):\n",
      " #   Column      Non-Null Count  Dtype \n",
      "---  ------      --------------  ----- \n",
      " 0   user_id     943 non-null    int64 \n",
      " 1   age         943 non-null    int64 \n",
      " 2   gender      943 non-null    object\n",
      " 3   occupation  943 non-null    object\n",
      " 4   zip_code    943 non-null    object\n",
      "dtypes: int64(2), object(3)\n",
      "memory usage: 37.0+ KB\n",
      "None\n"
     ]
    }
   ],
   "source": [
    "print(users.info())"
   ]
  },
  {
   "cell_type": "code",
   "execution_count": 8,
   "id": "b04f88e6",
   "metadata": {},
   "outputs": [
    {
     "data": {
      "text/plain": [
       "user_id      0\n",
       "movie_id     0\n",
       "rating       0\n",
       "timestamp    0\n",
       "dtype: int64"
      ]
     },
     "execution_count": 8,
     "metadata": {},
     "output_type": "execute_result"
    }
   ],
   "source": [
    "ratings.isnull().sum()"
   ]
  },
  {
   "cell_type": "code",
   "execution_count": 9,
   "id": "22f34938",
   "metadata": {},
   "outputs": [
    {
     "data": {
      "text/plain": [
       "user_id       0\n",
       "age           0\n",
       "gender        0\n",
       "occupation    0\n",
       "zip_code      0\n",
       "dtype: int64"
      ]
     },
     "execution_count": 9,
     "metadata": {},
     "output_type": "execute_result"
    }
   ],
   "source": [
    "users.isnull().sum()"
   ]
  },
  {
   "cell_type": "code",
   "execution_count": 10,
   "id": "742bc49e",
   "metadata": {},
   "outputs": [
    {
     "data": {
      "text/plain": [
       "movie_id                 0\n",
       "title                    0\n",
       "release_date             1\n",
       "video_release_date    1682\n",
       "imdb_url                 3\n",
       "unknown                  0\n",
       "Action                   0\n",
       "Adventure                0\n",
       "Animation                0\n",
       "Children's               0\n",
       "Comedy                   0\n",
       "Crime                    0\n",
       "Documentary              0\n",
       "Drama                    0\n",
       "Fantasy                  0\n",
       "Film-Noir                0\n",
       "Horror                   0\n",
       "Musical                  0\n",
       "Mystery                  0\n",
       "Romance                  0\n",
       "Sci-Fi                   0\n",
       "Thriller                 0\n",
       "War                      0\n",
       "Western                  0\n",
       "dtype: int64"
      ]
     },
     "execution_count": 10,
     "metadata": {},
     "output_type": "execute_result"
    }
   ],
   "source": [
    "movies.isnull().sum()"
   ]
  },
  {
   "cell_type": "code",
   "execution_count": 11,
   "id": "a9ea0bd0",
   "metadata": {},
   "outputs": [
    {
     "name": "stdout",
     "output_type": "stream",
     "text": [
      "     movie_id    title release_date  video_release_date imdb_url  unknown  \\\n",
      "266       267  unknown          NaN                 NaN      NaN        1   \n",
      "\n",
      "     Action  Adventure  Animation  Children's  ...  Fantasy  Film-Noir  \\\n",
      "266       0          0          0           0  ...        0          0   \n",
      "\n",
      "     Horror  Musical  Mystery  Romance  Sci-Fi  Thriller  War  Western  \n",
      "266       0        0        0        0       0         0    0        0  \n",
      "\n",
      "[1 rows x 24 columns]\n"
     ]
    }
   ],
   "source": [
    "print(movies.loc[movies[\"release_date\"].isnull()])"
   ]
  },
  {
   "cell_type": "code",
   "execution_count": 12,
   "id": "2db6c33f",
   "metadata": {},
   "outputs": [
    {
     "name": "stdout",
     "output_type": "stream",
     "text": [
      "     movie_id    title release_date  video_release_date imdb_url  unknown  \\\n",
      "266       267  unknown          NaN                 NaN      NaN        1   \n",
      "\n",
      "     Action  Adventure  Animation  Children's  ...  Fantasy  Film-Noir  \\\n",
      "266       0          0          0           0  ...        0          0   \n",
      "\n",
      "     Horror  Musical  Mystery  Romance  Sci-Fi  Thriller  War  Western  \n",
      "266       0        0        0        0       0         0    0        0  \n",
      "\n",
      "[1 rows x 24 columns]\n",
      "Removed movie with unknown title, genre and release date\n"
     ]
    }
   ],
   "source": [
    "print(movies[movies[\"title\"]==\"unknown\"])\n",
    "movies=movies[movies[\"title\"]!=\"unknown\"]\n",
    "print(\"Removed movie with unknown title, genre and release date\")"
   ]
  },
  {
   "cell_type": "code",
   "execution_count": 13,
   "id": "90ac8fb1",
   "metadata": {},
   "outputs": [],
   "source": [
    "movies.drop(columns=[\"video_release_date\"], inplace=True)   #remove video release date as all are null"
   ]
  },
  {
   "cell_type": "code",
   "execution_count": 14,
   "id": "429a2245",
   "metadata": {},
   "outputs": [
    {
     "name": "stdout",
     "output_type": "stream",
     "text": [
      "movie_id        0\n",
      "title           0\n",
      "release_date    0\n",
      "imdb_url        2\n",
      "unknown         0\n",
      "Action          0\n",
      "Adventure       0\n",
      "Animation       0\n",
      "Children's      0\n",
      "Comedy          0\n",
      "Crime           0\n",
      "Documentary     0\n",
      "Drama           0\n",
      "Fantasy         0\n",
      "Film-Noir       0\n",
      "Horror          0\n",
      "Musical         0\n",
      "Mystery         0\n",
      "Romance         0\n",
      "Sci-Fi          0\n",
      "Thriller        0\n",
      "War             0\n",
      "Western         0\n",
      "dtype: int64\n"
     ]
    }
   ],
   "source": [
    "print(movies.isnull().sum())"
   ]
  },
  {
   "cell_type": "code",
   "execution_count": 15,
   "id": "2edfa4bb",
   "metadata": {},
   "outputs": [
    {
     "data": {
      "text/plain": [
       "movie_id        0\n",
       "title           0\n",
       "release_date    0\n",
       "imdb_url        0\n",
       "unknown         0\n",
       "Action          0\n",
       "Adventure       0\n",
       "Animation       0\n",
       "Children's      0\n",
       "Comedy          0\n",
       "Crime           0\n",
       "Documentary     0\n",
       "Drama           0\n",
       "Fantasy         0\n",
       "Film-Noir       0\n",
       "Horror          0\n",
       "Musical         0\n",
       "Mystery         0\n",
       "Romance         0\n",
       "Sci-Fi          0\n",
       "Thriller        0\n",
       "War             0\n",
       "Western         0\n",
       "dtype: int64"
      ]
     },
     "execution_count": 15,
     "metadata": {},
     "output_type": "execute_result"
    }
   ],
   "source": [
    "movies[\"imdb_url\"]=movies[\"imdb_url\"].fillna(value=\"none\")   #Fill the missing url with a value none\n",
    "movies.isnull().sum()"
   ]
  },
  {
   "cell_type": "code",
   "execution_count": 16,
   "id": "8b27e7ea",
   "metadata": {},
   "outputs": [
    {
     "name": "stdout",
     "output_type": "stream",
     "text": [
      "<class 'pandas.core.frame.DataFrame'>\n",
      "Index: 1681 entries, 0 to 1681\n",
      "Data columns (total 23 columns):\n",
      " #   Column        Non-Null Count  Dtype \n",
      "---  ------        --------------  ----- \n",
      " 0   movie_id      1681 non-null   int64 \n",
      " 1   title         1681 non-null   object\n",
      " 2   release_date  1681 non-null   object\n",
      " 3   imdb_url      1681 non-null   object\n",
      " 4   unknown       1681 non-null   int64 \n",
      " 5   Action        1681 non-null   int64 \n",
      " 6   Adventure     1681 non-null   int64 \n",
      " 7   Animation     1681 non-null   int64 \n",
      " 8   Children's    1681 non-null   int64 \n",
      " 9   Comedy        1681 non-null   int64 \n",
      " 10  Crime         1681 non-null   int64 \n",
      " 11  Documentary   1681 non-null   int64 \n",
      " 12  Drama         1681 non-null   int64 \n",
      " 13  Fantasy       1681 non-null   int64 \n",
      " 14  Film-Noir     1681 non-null   int64 \n",
      " 15  Horror        1681 non-null   int64 \n",
      " 16  Musical       1681 non-null   int64 \n",
      " 17  Mystery       1681 non-null   int64 \n",
      " 18  Romance       1681 non-null   int64 \n",
      " 19  Sci-Fi        1681 non-null   int64 \n",
      " 20  Thriller      1681 non-null   int64 \n",
      " 21  War           1681 non-null   int64 \n",
      " 22  Western       1681 non-null   int64 \n",
      "dtypes: int64(20), object(3)\n",
      "memory usage: 315.2+ KB\n"
     ]
    }
   ],
   "source": [
    "movies.info()"
   ]
  },
  {
   "cell_type": "code",
   "execution_count": 17,
   "id": "a2950511",
   "metadata": {},
   "outputs": [
    {
     "name": "stdout",
     "output_type": "stream",
     "text": [
      "0   1995-01-01\n",
      "1   1995-01-01\n",
      "2   1995-01-01\n",
      "3   1995-01-01\n",
      "4   1995-01-01\n",
      "Name: release_date, dtype: datetime64[ns]\n"
     ]
    }
   ],
   "source": [
    "movies[\"release_date\"]=pd.to_datetime(movies[\"release_date\"])\n",
    "print(movies[\"release_date\"].head())"
   ]
  },
  {
   "cell_type": "code",
   "execution_count": 18,
   "id": "10f12bc5",
   "metadata": {},
   "outputs": [
    {
     "name": "stdout",
     "output_type": "stream",
     "text": [
      "<class 'pandas.core.frame.DataFrame'>\n",
      "Index: 1681 entries, 0 to 1681\n",
      "Data columns (total 23 columns):\n",
      " #   Column        Non-Null Count  Dtype         \n",
      "---  ------        --------------  -----         \n",
      " 0   movie_id      1681 non-null   int64         \n",
      " 1   title         1681 non-null   object        \n",
      " 2   release_date  1681 non-null   datetime64[ns]\n",
      " 3   imdb_url      1681 non-null   object        \n",
      " 4   unknown       1681 non-null   int64         \n",
      " 5   Action        1681 non-null   int64         \n",
      " 6   Adventure     1681 non-null   int64         \n",
      " 7   Animation     1681 non-null   int64         \n",
      " 8   Children's    1681 non-null   int64         \n",
      " 9   Comedy        1681 non-null   int64         \n",
      " 10  Crime         1681 non-null   int64         \n",
      " 11  Documentary   1681 non-null   int64         \n",
      " 12  Drama         1681 non-null   int64         \n",
      " 13  Fantasy       1681 non-null   int64         \n",
      " 14  Film-Noir     1681 non-null   int64         \n",
      " 15  Horror        1681 non-null   int64         \n",
      " 16  Musical       1681 non-null   int64         \n",
      " 17  Mystery       1681 non-null   int64         \n",
      " 18  Romance       1681 non-null   int64         \n",
      " 19  Sci-Fi        1681 non-null   int64         \n",
      " 20  Thriller      1681 non-null   int64         \n",
      " 21  War           1681 non-null   int64         \n",
      " 22  Western       1681 non-null   int64         \n",
      "dtypes: datetime64[ns](1), int64(20), object(2)\n",
      "memory usage: 315.2+ KB\n"
     ]
    }
   ],
   "source": [
    "movies.info()"
   ]
  },
  {
   "cell_type": "code",
   "execution_count": 19,
   "id": "f37840eb",
   "metadata": {},
   "outputs": [
    {
     "data": {
      "text/html": [
       "<div>\n",
       "<style scoped>\n",
       "    .dataframe tbody tr th:only-of-type {\n",
       "        vertical-align: middle;\n",
       "    }\n",
       "\n",
       "    .dataframe tbody tr th {\n",
       "        vertical-align: top;\n",
       "    }\n",
       "\n",
       "    .dataframe thead th {\n",
       "        text-align: right;\n",
       "    }\n",
       "</style>\n",
       "<table border=\"1\" class=\"dataframe\">\n",
       "  <thead>\n",
       "    <tr style=\"text-align: right;\">\n",
       "      <th></th>\n",
       "      <th>user_id</th>\n",
       "      <th>movie_id</th>\n",
       "      <th>rating</th>\n",
       "      <th>timestamp</th>\n",
       "    </tr>\n",
       "  </thead>\n",
       "  <tbody>\n",
       "    <tr>\n",
       "      <th>2172</th>\n",
       "      <td>130</td>\n",
       "      <td>267</td>\n",
       "      <td>5</td>\n",
       "      <td>875801239</td>\n",
       "    </tr>\n",
       "    <tr>\n",
       "      <th>3781</th>\n",
       "      <td>5</td>\n",
       "      <td>267</td>\n",
       "      <td>4</td>\n",
       "      <td>875635064</td>\n",
       "    </tr>\n",
       "    <tr>\n",
       "      <th>7245</th>\n",
       "      <td>268</td>\n",
       "      <td>267</td>\n",
       "      <td>3</td>\n",
       "      <td>875742077</td>\n",
       "    </tr>\n",
       "    <tr>\n",
       "      <th>12475</th>\n",
       "      <td>297</td>\n",
       "      <td>267</td>\n",
       "      <td>3</td>\n",
       "      <td>875409139</td>\n",
       "    </tr>\n",
       "    <tr>\n",
       "      <th>14756</th>\n",
       "      <td>319</td>\n",
       "      <td>267</td>\n",
       "      <td>4</td>\n",
       "      <td>875707690</td>\n",
       "    </tr>\n",
       "    <tr>\n",
       "      <th>15292</th>\n",
       "      <td>1</td>\n",
       "      <td>267</td>\n",
       "      <td>4</td>\n",
       "      <td>875692955</td>\n",
       "    </tr>\n",
       "    <tr>\n",
       "      <th>49295</th>\n",
       "      <td>532</td>\n",
       "      <td>267</td>\n",
       "      <td>3</td>\n",
       "      <td>875441348</td>\n",
       "    </tr>\n",
       "    <tr>\n",
       "      <th>93523</th>\n",
       "      <td>833</td>\n",
       "      <td>267</td>\n",
       "      <td>1</td>\n",
       "      <td>875655669</td>\n",
       "    </tr>\n",
       "    <tr>\n",
       "      <th>99723</th>\n",
       "      <td>422</td>\n",
       "      <td>267</td>\n",
       "      <td>4</td>\n",
       "      <td>875655986</td>\n",
       "    </tr>\n",
       "  </tbody>\n",
       "</table>\n",
       "</div>"
      ],
      "text/plain": [
       "       user_id  movie_id  rating  timestamp\n",
       "2172       130       267       5  875801239\n",
       "3781         5       267       4  875635064\n",
       "7245       268       267       3  875742077\n",
       "12475      297       267       3  875409139\n",
       "14756      319       267       4  875707690\n",
       "15292        1       267       4  875692955\n",
       "49295      532       267       3  875441348\n",
       "93523      833       267       1  875655669\n",
       "99723      422       267       4  875655986"
      ]
     },
     "execution_count": 19,
     "metadata": {},
     "output_type": "execute_result"
    }
   ],
   "source": [
    "ratings[~ratings[\"movie_id\"].isin(movies[\"movie_id\"])]  #ratings for the movie that was removed"
   ]
  },
  {
   "cell_type": "code",
   "execution_count": 20,
   "id": "bebba35b",
   "metadata": {},
   "outputs": [
    {
     "data": {
      "text/html": [
       "<div>\n",
       "<style scoped>\n",
       "    .dataframe tbody tr th:only-of-type {\n",
       "        vertical-align: middle;\n",
       "    }\n",
       "\n",
       "    .dataframe tbody tr th {\n",
       "        vertical-align: top;\n",
       "    }\n",
       "\n",
       "    .dataframe thead th {\n",
       "        text-align: right;\n",
       "    }\n",
       "</style>\n",
       "<table border=\"1\" class=\"dataframe\">\n",
       "  <thead>\n",
       "    <tr style=\"text-align: right;\">\n",
       "      <th></th>\n",
       "      <th>user_id</th>\n",
       "      <th>movie_id</th>\n",
       "      <th>rating</th>\n",
       "      <th>timestamp</th>\n",
       "    </tr>\n",
       "  </thead>\n",
       "  <tbody>\n",
       "  </tbody>\n",
       "</table>\n",
       "</div>"
      ],
      "text/plain": [
       "Empty DataFrame\n",
       "Columns: [user_id, movie_id, rating, timestamp]\n",
       "Index: []"
      ]
     },
     "execution_count": 20,
     "metadata": {},
     "output_type": "execute_result"
    }
   ],
   "source": [
    "ratings=ratings[ratings[\"movie_id\"].isin(movies[\"movie_id\"])]\n",
    "ratings.loc[ratings[\"movie_id\"]==267]   #Empty row means successful deletion of ratings for the deleted movie"
   ]
  },
  {
   "cell_type": "code",
   "execution_count": 22,
   "id": "6b342bb9",
   "metadata": {},
   "outputs": [
    {
     "data": {
      "text/html": [
       "<div>\n",
       "<style scoped>\n",
       "    .dataframe tbody tr th:only-of-type {\n",
       "        vertical-align: middle;\n",
       "    }\n",
       "\n",
       "    .dataframe tbody tr th {\n",
       "        vertical-align: top;\n",
       "    }\n",
       "\n",
       "    .dataframe thead th {\n",
       "        text-align: right;\n",
       "    }\n",
       "</style>\n",
       "<table border=\"1\" class=\"dataframe\">\n",
       "  <thead>\n",
       "    <tr style=\"text-align: right;\">\n",
       "      <th></th>\n",
       "      <th>user_id</th>\n",
       "      <th>movie_id</th>\n",
       "      <th>rating</th>\n",
       "    </tr>\n",
       "  </thead>\n",
       "  <tbody>\n",
       "    <tr>\n",
       "      <th>0</th>\n",
       "      <td>196</td>\n",
       "      <td>242</td>\n",
       "      <td>3</td>\n",
       "    </tr>\n",
       "    <tr>\n",
       "      <th>1</th>\n",
       "      <td>186</td>\n",
       "      <td>302</td>\n",
       "      <td>3</td>\n",
       "    </tr>\n",
       "    <tr>\n",
       "      <th>2</th>\n",
       "      <td>22</td>\n",
       "      <td>377</td>\n",
       "      <td>1</td>\n",
       "    </tr>\n",
       "    <tr>\n",
       "      <th>3</th>\n",
       "      <td>244</td>\n",
       "      <td>51</td>\n",
       "      <td>2</td>\n",
       "    </tr>\n",
       "    <tr>\n",
       "      <th>4</th>\n",
       "      <td>166</td>\n",
       "      <td>346</td>\n",
       "      <td>1</td>\n",
       "    </tr>\n",
       "  </tbody>\n",
       "</table>\n",
       "</div>"
      ],
      "text/plain": [
       "   user_id  movie_id  rating\n",
       "0      196       242       3\n",
       "1      186       302       3\n",
       "2       22       377       1\n",
       "3      244        51       2\n",
       "4      166       346       1"
      ]
     },
     "execution_count": 22,
     "metadata": {},
     "output_type": "execute_result"
    }
   ],
   "source": [
    "ratings.drop('timestamp',axis=1,inplace=True)\n",
    "ratings.head()"
   ]
  },
  {
   "cell_type": "code",
   "execution_count": null,
   "id": "d90c0946",
   "metadata": {},
   "outputs": [],
   "source": []
  }
 ],
 "metadata": {
  "kernelspec": {
   "display_name": "pyenv",
   "language": "python",
   "name": "python3"
  },
  "language_info": {
   "codemirror_mode": {
    "name": "ipython",
    "version": 3
   },
   "file_extension": ".py",
   "mimetype": "text/x-python",
   "name": "python",
   "nbconvert_exporter": "python",
   "pygments_lexer": "ipython3",
   "version": "3.13.2"
  }
 },
 "nbformat": 4,
 "nbformat_minor": 5
}
