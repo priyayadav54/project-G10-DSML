{
 "cells": [
  {
   "cell_type": "markdown",
   "id": "e1e5b3d5",
   "metadata": {},
   "source": [
    "Movie recommendation system"
   ]
  },
  {
   "cell_type": "code",
   "execution_count": null,
   "id": "459c82bd",
   "metadata": {},
   "outputs": [],
   "source": [
    "import pandas as pd\n",
    "import numpy as np\n",
    "from sklearn.model_selection import train_test_split\n",
    "from sklearn.utils.extmath import randomized_svd\n",
    "from sklearn.decomposition import TruncatedSVD\n",
    "from sklearn.metrics import mean_squared_error, mean_absolute_error\n",
    "from sklearn.model_selection import train_test_split"
   ]
  },
  {
   "cell_type": "code",
   "execution_count": null,
   "id": "6ceef56e",
   "metadata": {},
   "outputs": [],
   "source": [
    "#User ratings dataframe\n",
    "ratings=pd.read_csv(\"./ml-100k/u.data\",sep=\"\\t\",names=[\"user_id\",\"movie_id\",\"rating\",\"timestamp\"])\n",
    "ratings.head()"
   ]
  },
  {
   "cell_type": "code",
   "execution_count": null,
   "id": "c2d85054",
   "metadata": {},
   "outputs": [],
   "source": [
    "#Movies dataframe\n",
    "columns=[\"movie_id\",\"title\",\"release_date\",\"video_release_date\",\"imdb_url\",\"unknown\",\n",
    "         \"Action\",\"Adventure\",\"Animation\",\"Children\\'s\",\"Comedy\",\"Crime\",\"Documentary\",\n",
    "         \"Drama\",\"Fantasy\",\"Film-Noir\",\"Horror\",\"Musical\",\"Mystery\",\"Romance\",\"Sci-Fi\",\n",
    "         \"Thriller\",\"War\",\"Western\"]\n",
    "movies=pd.read_csv(\"./ml-100k/u.item\",sep=\"|\",names=columns,encoding='latin1')\n",
    "print(movies.head())"
   ]
  },
  {
   "cell_type": "code",
   "execution_count": null,
   "id": "d437a4d4",
   "metadata": {},
   "outputs": [],
   "source": [
    "#Users dataframe\n",
    "users=pd.read_csv(\"./ml-100k/u.user\",sep=\"|\",names=[\"user_id\",\"age\",\"gender\",\"occupation\",\"zip_code\"])\n",
    "print(users.head())"
   ]
  },
  {
   "cell_type": "code",
   "execution_count": null,
   "id": "180c7bb0",
   "metadata": {},
   "outputs": [],
   "source": [
    "print(ratings.info())"
   ]
  },
  {
   "cell_type": "code",
   "execution_count": null,
   "id": "327c222d",
   "metadata": {},
   "outputs": [],
   "source": [
    "print(movies.info())"
   ]
  },
  {
   "cell_type": "code",
   "execution_count": null,
   "id": "c9f3b3fc",
   "metadata": {},
   "outputs": [],
   "source": [
    "print(users.info())"
   ]
  },
  {
   "cell_type": "code",
   "execution_count": null,
   "id": "b04f88e6",
   "metadata": {},
   "outputs": [],
   "source": [
    "ratings.isnull().sum()"
   ]
  },
  {
   "cell_type": "code",
   "execution_count": null,
   "id": "22f34938",
   "metadata": {},
   "outputs": [],
   "source": [
    "users.isnull().sum()"
   ]
  },
  {
   "cell_type": "code",
   "execution_count": null,
   "id": "742bc49e",
   "metadata": {},
   "outputs": [],
   "source": [
    "movies.isnull().sum()"
   ]
  },
  {
   "cell_type": "code",
   "execution_count": null,
   "id": "a9ea0bd0",
   "metadata": {},
   "outputs": [],
   "source": [
    "print(movies.loc[movies[\"release_date\"].isnull()])"
   ]
  },
  {
   "cell_type": "code",
   "execution_count": null,
   "id": "2db6c33f",
   "metadata": {},
   "outputs": [],
   "source": [
    "print(movies[movies[\"title\"]==\"unknown\"])\n",
    "movies=movies[movies[\"title\"]!=\"unknown\"]\n",
    "print(\"Removed movie with unknown title, genre and release date\")"
   ]
  },
  {
   "cell_type": "code",
   "execution_count": null,
   "id": "90ac8fb1",
   "metadata": {},
   "outputs": [],
   "source": [
    "movies.drop(columns=[\"video_release_date\"], inplace=True)   #remove video release date as all are null"
   ]
  },
  {
   "cell_type": "code",
   "execution_count": null,
   "id": "429a2245",
   "metadata": {},
   "outputs": [],
   "source": [
    "print(movies.isnull().sum())"
   ]
  },
  {
   "cell_type": "code",
   "execution_count": null,
   "id": "2edfa4bb",
   "metadata": {},
   "outputs": [],
   "source": [
    "movies[\"imdb_url\"]=movies[\"imdb_url\"].fillna(value=\"none\")   #Fill the missing url with a value none\n",
    "movies.isnull().sum()"
   ]
  },
  {
   "cell_type": "code",
   "execution_count": null,
   "id": "8b27e7ea",
   "metadata": {},
   "outputs": [],
   "source": [
    "movies.info()"
   ]
  },
  {
   "cell_type": "code",
   "execution_count": null,
   "id": "a2950511",
   "metadata": {},
   "outputs": [],
   "source": [
    "movies[\"release_date\"]=pd.to_datetime(movies[\"release_date\"])\n",
    "print(movies[\"release_date\"].head())"
   ]
  },
  {
   "cell_type": "code",
   "execution_count": null,
   "id": "10f12bc5",
   "metadata": {},
   "outputs": [],
   "source": [
    "movies.info()"
   ]
  },
  {
   "cell_type": "code",
   "execution_count": null,
   "id": "f37840eb",
   "metadata": {},
   "outputs": [],
   "source": [
    "ratings[~ratings[\"movie_id\"].isin(movies[\"movie_id\"])]  #ratings for the movie that was removed"
   ]
  },
  {
   "cell_type": "code",
   "execution_count": null,
   "id": "bebba35b",
   "metadata": {},
   "outputs": [],
   "source": [
    "ratings=ratings[ratings[\"movie_id\"].isin(movies[\"movie_id\"])]\n",
    "ratings.loc[ratings[\"movie_id\"]==267]   #Empty row means successful deletion of ratings for the deleted movie"
   ]
  },
  {
   "cell_type": "markdown",
   "id": "c2f33b93",
   "metadata": {},
   "source": [
    "Exploratory Data Analysis"
   ]
  },
  {
   "cell_type": "code",
   "execution_count": null,
   "id": "3d122433",
   "metadata": {},
   "outputs": [],
   "source": [
    "import matplotlib.pyplot as plt\n",
    "import seaborn as sns\n",
    "import matplotlib.dates as mdates"
   ]
  },
  {
   "cell_type": "code",
   "execution_count": null,
   "id": "f47cdb6b",
   "metadata": {},
   "outputs": [],
   "source": [
    "# Ratings distribution\n",
    "ratings['rating'].value_counts().sort_index().plot(kind='bar')\n",
    "plt.title('Rating Distribution')\n",
    "plt.xlabel('Rating')\n",
    "plt.ylabel('Frequency')\n",
    "plt.show()\n"
   ]
  },
  {
   "cell_type": "code",
   "execution_count": null,
   "id": "aa31ae3d",
   "metadata": {},
   "outputs": [],
   "source": [
    "#Ratings per user\n",
    "ratings_per_user = ratings.groupby('user_id').size().sort_index()\n",
    "ratings_per_user.plot(kind='hist', bins=50)\n",
    "plt.title('Ratings per User')\n",
    "plt.xlabel('Number of Ratings')\n",
    "plt.show()"
   ]
  },
  {
   "cell_type": "code",
   "execution_count": null,
   "id": "d89733fb",
   "metadata": {},
   "outputs": [],
   "source": [
    "# Ratings per movie\n",
    "ratings_per_movie = ratings.groupby('movie_id').size()\n",
    "ratings_per_movie.plot(kind='hist', bins=50)\n",
    "plt.title('Ratings per Movie')\n",
    "plt.xlabel('Number of Ratings')\n",
    "plt.show()"
   ]
  },
  {
   "cell_type": "code",
   "execution_count": null,
   "id": "8f933fca",
   "metadata": {},
   "outputs": [],
   "source": [
    "# Basic statistics of ratings dataframe\n",
    "print(ratings.isnull().sum())\n",
    "print(\"*\"*50)\n",
    "print(ratings.info())\n",
    "print(\"*\"*50)\n",
    "print(ratings.describe())"
   ]
  },
  {
   "cell_type": "code",
   "execution_count": null,
   "id": "4b4bb6b7",
   "metadata": {},
   "outputs": [],
   "source": [
    "print(\"Exploring the movies dataframe\")\n",
    "genre_columns=movies.columns[4:]\n",
    "print(\"Genre columns => \",genre_columns)"
   ]
  },
  {
   "cell_type": "code",
   "execution_count": null,
   "id": "4dbf28e2",
   "metadata": {},
   "outputs": [],
   "source": [
    "# Sum of movies in each genre (A movie can belong to several genre)\n",
    "genre_counts = movies[genre_columns].sum().sort_values().plot(kind=\"bar\")"
   ]
  },
  {
   "cell_type": "code",
   "execution_count": null,
   "id": "436c86a676080369",
   "metadata": {},
   "outputs": [],
   "source": [
    "ratings_per_movie = ratings.groupby('movie_id').size()\n",
    "\n",
    "plt.figure(figsize=(10,6))\n",
    "ratings_per_movie.plot(kind='hist', bins=50, color='skyblue', edgecolor='black')\n",
    "plt.title('Ratings per Movie')\n",
    "plt.xlabel('Number of Ratings')\n",
    "plt.ylabel('Number of Movies')\n",
    "plt.grid(True)\n",
    "plt.tight_layout()\n",
    "plt.show()\n"
   ]
  },
  {
   "cell_type": "code",
   "execution_count": null,
   "id": "131dc9480dfff866",
   "metadata": {},
   "outputs": [],
   "source": [
    "# Join with ratings count\n",
    "ratings_count = ratings.groupby('movie_id').size().reset_index(name='count')\n",
    "top_movies = ratings_count.sort_values(by='count', ascending=False).head(10)\n",
    "\n",
    "# Merge to get titles\n",
    "top_movies = pd.merge(top_movies, movies, on='movie_id')\n",
    "print(top_movies[['title', 'count']])\n"
   ]
  },
  {
   "cell_type": "code",
   "execution_count": null,
   "id": "747ab33d36aa68bc",
   "metadata": {},
   "outputs": [],
   "source": [
    "# Merge ratings with movie titles\n",
    "merged_df = pd.merge(ratings, movies, on='movie_id')\n",
    "\n",
    "# Show first few rows\n",
    "merged_df.head()"
   ]
  },
  {
   "cell_type": "code",
   "execution_count": null,
   "id": "3f31b90ddc941886",
   "metadata": {},
   "outputs": [],
   "source": [
    "top_rated = merged_df['title'].value_counts().head(10)\n",
    "print(top_rated)"
   ]
  },
  {
   "cell_type": "code",
   "execution_count": null,
   "id": "68a238a220157444",
   "metadata": {},
   "outputs": [],
   "source": [
    "top_10 = merged_df['title'].value_counts().head(10)"
   ]
  },
  {
   "cell_type": "code",
   "execution_count": null,
   "id": "59243b8c4889c537",
   "metadata": {},
   "outputs": [],
   "source": [
    "plt.figure(figsize=(10, 6))\n",
    "top_10.plot(kind='barh', color='skyblue', edgecolor='black')\n",
    "plt.xlabel('Number of Ratings')\n",
    "plt.title('Top 10 Most Rated Movies')\n",
    "plt.gca().invert_yaxis()  # Most rated at top\n",
    "plt.tight_layout()\n",
    "plt.show()"
   ]
  },
  {
   "cell_type": "code",
   "execution_count": null,
   "id": "428396b324f53d7f",
   "metadata": {},
   "outputs": [],
   "source": [
    "#Feature Engineering – Ratings per Month\n",
    "\n",
    "# 2. Convert timestamp to datetime\n",
    "ratings['datetime'] = pd.to_datetime(ratings['timestamp'], unit='s')\n",
    "\n",
    "# 3. Extract year-month (e.g., '2020-05')\n",
    "ratings['year_month'] = ratings['datetime'].dt.to_period('M')\n",
    "\n",
    "# 4. Count ratings per movie each month\n",
    "monthly_counts = ratings.groupby(['movie_id', 'year_month']).size().reset_index(name='ratings_count')\n",
    "\n",
    "# 5. Pivot to wide format (each movie, month as column)\n",
    "monthly_pivot = monthly_counts.pivot(\n",
    "    index='movie_id',\n",
    "    columns='year_month',\n",
    "    values='ratings_count'\n",
    ").fillna(0)\n",
    "\n",
    "# 6. (Optional) Add a feature: total ratings across all months\n",
    "monthly_pivot['total_ratings'] = monthly_pivot.sum(axis=1)\n",
    "\n",
    "feat = pd.merge(monthly_pivot.reset_index(), movies, on='movie_id')\n",
    "print(feat.head())\n"
   ]
  },
  {
   "cell_type": "code",
   "execution_count": null,
   "id": "91f168da654bfb53",
   "metadata": {},
   "outputs": [],
   "source": [
    "#Line Plot of Movie Ratings Over Time\n",
    "# (Assuming 'monthly_counts' DataFrame from earlier)\n",
    "# Example: plot ratings count over time for a single movie_id\n",
    "movie_id = 50  # change as needed\n",
    "ts = monthly_counts[monthly_counts.movie_id == movie_id]\n",
    "ts.set_index('year_month', inplace=True)\n",
    "\n",
    "fig, ax = plt.subplots(figsize=(10, 5))\n",
    "ax.plot(ts.index.to_timestamp(), ts['ratings_count'], marker='o')\n",
    "\n",
    "ax.set_title(f'Monthly Ratings Count for Movie {movie_id}')\n",
    "ax.set_xlabel('Month')\n",
    "ax.set_ylabel('Number of Ratings')\n",
    "\n",
    "# Format x-axis ticks every 3 months\n",
    "locator = mdates.MonthLocator(interval=3)\n",
    "formatter = mdates.DateFormatter('%Y-%m')\n",
    "ax.xaxis.set_major_locator(locator)\n",
    "ax.xaxis.set_major_formatter(formatter)\n",
    "fig.autofmt_xdate()\n",
    "\n",
    "ax.grid(True)\n",
    "plt.show()\n"
   ]
  },
  {
   "cell_type": "code",
   "execution_count": null,
   "id": "2a0b4a2ef4b11135",
   "metadata": {},
   "outputs": [],
   "source": [
    "#Heatmap of Ratings by Movie and Time\n",
    "# Pivot into matrix: movies x months\n",
    "pivot = monthly_counts.pivot(\n",
    "    index='movie_id',\n",
    "    columns='year_month',\n",
    "    values='ratings_count'\n",
    ").fillna(0)\n",
    "\n",
    "# (Optionally select top-10 most active movies for clarity)\n",
    "top_movies = pivot.sum(axis=1).sort_values(ascending=False).head(10).index\n",
    "pivot_top = pivot.loc[top_movies]\n",
    "\n",
    "plt.figure(figsize=(12, 6))\n",
    "sns.heatmap(pivot_top, cmap='YlGnBu', cbar_kws={'label': 'Ratings Count'})\n",
    "plt.title('Ratings Count per Month (Top 10 Movies)')\n",
    "plt.xlabel('Year-Month')\n",
    "plt.ylabel('Movie ID')\n",
    "plt.show()\n"
   ]
  },
  {
   "cell_type": "code",
   "execution_count": null,
   "id": "7fe1fe246bee229a",
   "metadata": {},
   "outputs": [],
   "source": [
    "#Detecting Abnormal Movie Rating Patterns Using Isolation Forest.\n",
    "from sklearn.ensemble import IsolationForest\n",
    "\n",
    "# Build a feature df\n",
    "features = merged_df.groupby('movie_id').agg({\n",
    "    'rating': ['count', 'mean']\n",
    "}).reset_index()\n",
    "features.columns = ['movie_id', 'rating_count', 'avg_rating']\n",
    "\n",
    "model = IsolationForest(contamination=0.02, random_state=42)\n",
    "model.fit(features[['rating_count', 'avg_rating']])\n",
    "\n",
    "features['anomaly'] = model.predict(features[['rating_count', 'avg_rating']])\n",
    "outliers_iso = features[features['anomaly'] == -1]\n",
    "print(\"IsolationForest outliers:\", outliers_iso)\n",
    "\n",
    "# Plot outliers\n",
    "plt.figure(figsize=(8,6))\n",
    "plt.scatter(features['rating_count'], features['avg_rating'], c=(features['anomaly']==-1), cmap='coolwarm', alpha=0.7)\n",
    "plt.xlabel('Rating Count')\n",
    "plt.ylabel('Average Rating')\n",
    "plt.title('Outliers via Isolation Forest')\n",
    "plt.show()\n"
   ]
  },
  {
   "cell_type": "code",
   "execution_count": null,
   "id": "24d71632ae384cd7",
   "metadata": {},
   "outputs": [],
   "source": [
    "### Simple Item-Based Collaborative Filtering (Slope One)\n",
    "from collections import defaultdict\n",
    "\n",
    "# Build user→item ratings dict\n",
    "user_ratings = defaultdict(dict)\n",
    "for row in ratings.itertuples():\n",
    "    user_ratings[row.user_id][row.movie_id] = row.rating\n",
    "\n",
    "# Compute deviations and counts\n",
    "dev, count = defaultdict(lambda: defaultdict(int)), defaultdict(lambda: defaultdict(int))\n",
    "for u, items in user_ratings.items():\n",
    "    for i, ri in items.items():\n",
    "        for j, rj in items.items():\n",
    "            if i != j:\n",
    "                dev[i][j] += ri - rj\n",
    "                count[i][j] += 1\n",
    "\n",
    "# Average deviations\n",
    "for i in dev:\n",
    "    for j in dev[i]:\n",
    "        dev[i][j] /= count[i][j]\n",
    "\n",
    "# Predict function\n",
    "def slope_one_predict(user_id, item):\n",
    "    num, den = 0.0, 0\n",
    "    for j, ruj in user_ratings[user_id].items():\n",
    "        if item in dev[j]:\n",
    "            num += (dev[j][item] + ruj) * count[j][item]\n",
    "            den += count[j][item]\n",
    "    return num / den if den else None\n",
    "\n",
    "# Example: Predict ratings for a sample user\n",
    "test_user = ratings.user_id.unique()[0]\n",
    "preds = {item: slope_one_predict(test_user, item)\n",
    "         for item in ratings.movie_id.unique()\n",
    "         if item not in user_ratings[test_user]}\n",
    "top_preds = sorted(preds.items(), key=lambda x: x[1] or 0, reverse=True)[:10]\n",
    "\n",
    "print(\"Top 10 recommendations (item: predicted rating):\", top_preds)\n",
    "\n"
   ]
  },
  {
   "cell_type": "code",
   "execution_count": null,
   "id": "7cdb7c5bd2a63ee6",
   "metadata": {
    "ExecuteTime": {
     "end_time": "2025-06-23T09:54:44.141163Z",
     "start_time": "2025-06-23T09:54:43.995523Z"
    }
   },
   "outputs": [],
   "source": [
    "### Matrix Factorization with Truncated SVD (NumPy & Scikit‑learn)\n",
    "from sklearn.metrics import mean_squared_error, mean_absolute_error\n",
    "\n",
    "# Split train/test\n",
    "train, test = train_test_split(ratings, test_size=0.2, random_state=42)\n",
    "\n",
    "# Pivot to matrix\n",
    "train_mat = train.pivot(index='user_id', columns='movie_id', values='rating').fillna(0)\n",
    "test_mat = test.pivot(index='user_id', columns='movie_id', values='rating').fillna(0)\n",
    "train_mat.head()\n"
   ]
  },
  {
   "cell_type": "code",
   "execution_count": null,
   "id": "fc90ca91d2b9f4b0",
   "metadata": {
    "ExecuteTime": {
     "end_time": "2025-06-23T09:56:50.798500Z",
     "start_time": "2025-06-23T09:56:50.677417Z"
    }
   },
   "outputs": [],
   "source": [
    "# Factorize with truncated SVD\n",
    "U, Sigma, VT = randomized_svd(train_mat.values, n_components=20, random_state=42)\n",
    "Sigma_mat = np.diag(Sigma)\n",
    "\n",
    "# Reconstruct train prediction matrix\n",
    "pred_train = np.dot(np.dot(U, Sigma_mat), VT)\n",
    "train_mat.head()\n",
    "test_mat.head()\n",
    "train_mat.shape\n",
    "test_mat.shape"
   ]
  },
  {
   "cell_type": "code",
   "execution_count": null,
   "id": "91c2dccad95712ef",
   "metadata": {},
   "outputs": [],
   "source": [
    "# Perform truncated SVD to reconstruct user–item ratings matrix (low-rank approximation)\n",
    "\n",
    "# Split\n",
    "train, test = train_test_split(ratings, test_size=0.2, random_state=42)\n",
    "\n",
    "# Collect all users/items\n",
    "users = sorted(ratings['user_id'].unique())\n",
    "items = sorted(ratings['movie_id'].unique())\n",
    "\n",
    "# Pivot training matrix\n",
    "train_mat = train.pivot_table(index='user_id', columns='movie_id',\n",
    "                              values='rating', fill_value=0).reindex(\n",
    "    index=users, columns=items, fill_value=0\n",
    ")\n",
    "\n",
    "# Apply TruncatedSVD\n",
    "tsvd = TruncatedSVD(n_components=20, random_state=42)\n",
    "train_reduced = tsvd.fit_transform(train_mat)\n",
    "\n",
    "# Reconstruct full matrix\n",
    "pred_matrix = np.dot(train_reduced, tsvd.components_)\n",
    "\n",
    "# Wrap into DataFrame\n",
    "pred_ratings = pd.DataFrame(pred_matrix, index=users, columns=items)\n",
    "\n",
    "# Evaluate on test\n",
    "preds, truths = [], []\n",
    "for u, i, true_val in test[['user_id', 'movie_id', 'rating']].itertuples(index=False):\n",
    "    preds.append(pred_ratings.at[u, i])\n",
    "    truths.append(true_val)\n",
    "\n",
    "rmse = np.sqrt(mean_squared_error(truths, preds))\n",
    "mae = mean_absolute_error(truths, preds)\n",
    "print(f\"SVD RMSE = {rmse:.3f}, MAE = {mae:.3f}\")\n"
   ]
  },
  {
   "cell_type": "markdown",
   "id": "bdafdd75",
   "metadata": {},
   "source": [
    "Content Based Filtering"
   ]
  },
  {
   "cell_type": "code",
   "execution_count": null,
   "id": "986407cf",
   "metadata": {},
   "outputs": [],
   "source": [
    "movies.columns"
   ]
  },
  {
   "cell_type": "code",
   "execution_count": null,
   "id": "c2d58bba",
   "metadata": {},
   "outputs": [],
   "source": [
    "genre_columns = movies.columns[4:]\n",
    "movies['genre'] = movies[genre_columns].apply(\n",
    "    lambda row: '|'.join([genre for genre in genre_columns if row[genre] == 1]),\n",
    "    axis=1\n",
    ")\n",
    "movies=movies[['movie_id', 'title', 'imdb_url','genre']]\n"
   ]
  },
  {
   "cell_type": "code",
   "execution_count": null,
   "id": "a8b4feed",
   "metadata": {},
   "outputs": [],
   "source": [
    "movies.head()"
   ]
  },
  {
   "cell_type": "code",
   "execution_count": null,
   "id": "4d5eabad",
   "metadata": {},
   "outputs": [],
   "source": [
    "from sklearn.feature_extraction.text import TfidfVectorizer\n",
    "from sklearn.metrics.pairwise import cosine_similarity\n",
    "\n",
    "tfidf = TfidfVectorizer(token_pattern=r\"(?u)\\b[\\w-]+\\b\")  \n",
    "tfidf_matrix = tfidf.fit_transform(movies['genre'])"
   ]
  },
  {
   "cell_type": "code",
   "execution_count": null,
   "id": "5a376f62",
   "metadata": {},
   "outputs": [],
   "source": [
    "def recommend_content_based(movie_title, movies_df, tfidf_matrix, top_n=5):\n",
    "    \n",
    "    # Find the input movie\n",
    "    input_movie = movies_df[movies_df['title'].str.contains(movie_title, case=False)]\n",
    "    if input_movie.empty:\n",
    "        return pd.DataFrame(columns=['movie_id', 'title', 'similarity'])\n",
    "    \n",
    "    # Calculate similarities\n",
    "    input_idx = input_movie.index[0]\n",
    "    cosine_sim = cosine_similarity(\n",
    "        tfidf_matrix[input_idx:input_idx+1], \n",
    "        tfidf_matrix\n",
    "    ).flatten()\n",
    "    \n",
    "    # Get top-N most similar (excluding input movie)\n",
    "    movies_df['similarity'] = cosine_sim\n",
    "    recommendations = movies_df[movies_df['movie_id'] != input_movie.iloc[0]['movie_id']]\n",
    "    \n",
    "    return recommendations[['movie_id', 'title', 'similarity']].sort_values('similarity', ascending=False).head(top_n)\n"
   ]
  },
  {
   "cell_type": "code",
   "execution_count": null,
   "id": "085d0aba",
   "metadata": {},
   "outputs": [],
   "source": [
    "test_movie = \"aladdin\"  \n",
    "content_recs = recommend_content_based(\n",
    "    movie_title=test_movie,\n",
    "    movies_df=movies,          \n",
    "    tfidf_matrix=tfidf_matrix  \n",
    ")\n",
    "print(content_recs)"
   ]
  },
  {
   "cell_type": "markdown",
   "id": "aba181c3",
   "metadata": {},
   "source": [
    "Hybrid model"
   ]
  },
  {
   "cell_type": "code",
   "execution_count": null,
   "id": "741e9677",
   "metadata": {},
   "outputs": [],
   "source": [
    "def hybrid_recommend(user_id=None, movie_title=None, movies_df=None, ratings_df=None, svd_model=None, tfidf_matrix=None, top_n=10, svd_weight=0.6):\n",
    "    # Initialize\n",
    "    svd_scores = pd.DataFrame(columns=['movie_id', 'svd_score'])\n",
    "    content_scores = pd.DataFrame(columns=['movie_id', 'similarity'])\n",
    "\n",
    "    # --- SVD Recommendations ---\n",
    "    if user_id is not None and user_id in ratings_df['user_id'].unique():\n",
    "        svd_scores = recommend_svd(user_id, svd_model, ratings_df, movies_df, top_n*2)\n",
    "    \n",
    "    # --- Content-Based Recommendations ---\n",
    "    if movie_title is not None:\n",
    "        content_scores = recommend_content_based(movie_title, movies_df, tfidf_matrix, top_n*2)\n",
    "    \n",
    "    # --- Combine Scores ---\n",
    "    combined = pd.merge(\n",
    "        svd_scores[['movie_id', 'svd_score']],\n",
    "        content_scores[['movie_id', 'similarity']],\n",
    "        on='movie_id',\n",
    "        how='outer'\n",
    "    ).fillna(0)\n",
    "\n",
    "    # Normalize scores to [0, 1]\n",
    "    combined['svd_score'] = (combined['svd_score'] - combined['svd_score'].min()) / \\\n",
    "                           (combined['svd_score'].max() - combined['svd_score'].min())\n",
    "    combined['similarity'] = (combined['similarity'] - combined['similarity'].min()) / \\\n",
    "                            (combined['similarity'].max() - combined['similarity'].min())\n",
    "\n",
    "    # Calculate hybrid score\n",
    "    combined['hybrid_score'] = svd_weight * combined['svd_score'] + \\\n",
    "                              (1 - svd_weight) * combined['similarity']\n",
    "\n",
    "    # Merge with movie titles and return\n",
    "    result = pd.merge(\n",
    "        combined[['movie_id', 'hybrid_score']],\n",
    "        movies_df[['movie_id', 'title']],\n",
    "        on='movie_id'\n",
    "    )\n",
    "    return result.sort_values('hybrid_score', ascending=False).head(top_n)"
   ]
  },
  {
   "cell_type": "code",
   "execution_count": null,
   "id": "4ef76420",
   "metadata": {},
   "outputs": [],
   "source": [
    "hybrid_recommend(\n",
    "    user_id=1,\n",
    "    movies_df=movies,\n",
    "    ratings_df=ratings,\n",
    "    svd_model=svd_model,\n",
    "    tfidf_matrix=tfidf_matrix\n",
    ")"
   ]
  },
  {
   "cell_type": "code",
   "execution_count": null,
   "id": "1c148a6f",
   "metadata": {},
   "outputs": [],
   "source": []
  }
 ],
 "metadata": {
  "kernelspec": {
   "display_name": "pyenv",
   "language": "python",
   "name": "python3"
  },
  "language_info": {
   "codemirror_mode": {
    "name": "ipython",
    "version": 3
   },
   "file_extension": ".py",
   "mimetype": "text/x-python",
   "name": "python",
   "nbconvert_exporter": "python",
   "pygments_lexer": "ipython3",
   "version": "3.13.2"
  }
 },
 "nbformat": 4,
 "nbformat_minor": 5
}
