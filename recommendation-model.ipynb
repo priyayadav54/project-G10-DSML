{
 "cells": [
  {
   "cell_type": "markdown",
   "id": "e1e5b3d5",
   "metadata": {},
   "source": [
    "Movie recommendation system"
   ]
  },
  {
   "cell_type": "code",
   "id": "459c82bd",
   "metadata": {},
   "source": [
    "import pandas as pd\n",
    "import numpy as np\n",
    "from sklearn.model_selection import train_test_split\n",
    "from sklearn.utils.extmath import randomized_svd\n",
    "from sklearn.decomposition import TruncatedSVD\n",
    "from sklearn.metrics import mean_squared_error, mean_absolute_error\n",
    "from sklearn.model_selection import train_test_split"
   ],
   "outputs": [],
   "execution_count": null
  },
  {
   "cell_type": "code",
   "id": "6ceef56e",
   "metadata": {},
   "source": [
    "#User ratings dataframe\n",
    "ratings=pd.read_csv(\"./ml-100k/u.data\",sep=\"\\t\",names=[\"user_id\",\"movie_id\",\"rating\",\"timestamp\"])\n",
    "ratings.head()"
   ],
   "outputs": [],
   "execution_count": null
  },
  {
   "cell_type": "code",
   "id": "c2d85054",
   "metadata": {},
   "source": [
    "#Movies dataframe\n",
    "columns=[\"movie_id\",\"title\",\"release_date\",\"video_release_date\",\"imdb_url\",\"unknown\",\n",
    "         \"Action\",\"Adventure\",\"Animation\",\"Children\\'s\",\"Comedy\",\"Crime\",\"Documentary\",\n",
    "         \"Drama\",\"Fantasy\",\"Film-Noir\",\"Horror\",\"Musical\",\"Mystery\",\"Romance\",\"Sci-Fi\",\n",
    "         \"Thriller\",\"War\",\"Western\"]\n",
    "movies=pd.read_csv(\"./ml-100k/u.item\",sep=\"|\",names=columns,encoding='latin1')\n",
    "print(movies.head())"
   ],
   "outputs": [],
   "execution_count": null
  },
  {
   "cell_type": "code",
   "id": "d437a4d4",
   "metadata": {},
   "source": [
    "#Users dataframe\n",
    "users=pd.read_csv(\"./ml-100k/u.user\",sep=\"|\",names=[\"user_id\",\"age\",\"gender\",\"occupation\",\"zip_code\"])\n",
    "print(users.head())"
   ],
   "outputs": [],
   "execution_count": null
  },
  {
   "cell_type": "code",
   "id": "180c7bb0",
   "metadata": {},
   "source": [
    "print(ratings.info())"
   ],
   "outputs": [],
   "execution_count": null
  },
  {
   "cell_type": "code",
   "id": "327c222d",
   "metadata": {},
   "source": [
    "print(movies.info())"
   ],
   "outputs": [],
   "execution_count": null
  },
  {
   "cell_type": "code",
   "id": "c9f3b3fc",
   "metadata": {},
   "source": [
    "print(users.info())"
   ],
   "outputs": [],
   "execution_count": null
  },
  {
   "cell_type": "code",
   "id": "b04f88e6",
   "metadata": {},
   "source": [
    "ratings.isnull().sum()"
   ],
   "outputs": [],
   "execution_count": null
  },
  {
   "cell_type": "code",
   "id": "22f34938",
   "metadata": {},
   "source": [
    "users.isnull().sum()"
   ],
   "outputs": [],
   "execution_count": null
  },
  {
   "cell_type": "code",
   "id": "742bc49e",
   "metadata": {},
   "source": [
    "movies.isnull().sum()"
   ],
   "outputs": [],
   "execution_count": null
  },
  {
   "cell_type": "code",
   "id": "a9ea0bd0",
   "metadata": {},
   "source": [
    "print(movies.loc[movies[\"release_date\"].isnull()])"
   ],
   "outputs": [],
   "execution_count": null
  },
  {
   "cell_type": "code",
   "id": "2db6c33f",
   "metadata": {},
   "source": [
    "print(movies[movies[\"title\"]==\"unknown\"])\n",
    "movies=movies[movies[\"title\"]!=\"unknown\"]\n",
    "print(\"Removed movie with unknown title, genre and release date\")"
   ],
   "outputs": [],
   "execution_count": null
  },
  {
   "cell_type": "code",
   "id": "90ac8fb1",
   "metadata": {},
   "source": [
    "movies.drop(columns=[\"video_release_date\"], inplace=True)   #remove video release date as all are null"
   ],
   "outputs": [],
   "execution_count": null
  },
  {
   "cell_type": "code",
   "id": "429a2245",
   "metadata": {},
   "source": [
    "print(movies.isnull().sum())"
   ],
   "outputs": [],
   "execution_count": null
  },
  {
   "cell_type": "code",
   "id": "2edfa4bb",
   "metadata": {},
   "source": [
    "movies[\"imdb_url\"]=movies[\"imdb_url\"].fillna(value=\"none\")   #Fill the missing url with a value none\n",
    "movies.isnull().sum()"
   ],
   "outputs": [],
   "execution_count": null
  },
  {
   "cell_type": "code",
   "id": "8b27e7ea",
   "metadata": {},
   "source": [
    "movies.info()"
   ],
   "outputs": [],
   "execution_count": null
  },
  {
   "cell_type": "code",
   "id": "a2950511",
   "metadata": {},
   "source": [
    "movies[\"release_date\"]=pd.to_datetime(movies[\"release_date\"])\n",
    "print(movies[\"release_date\"].head())"
   ],
   "outputs": [],
   "execution_count": null
  },
  {
   "cell_type": "code",
   "id": "10f12bc5",
   "metadata": {},
   "source": [
    "movies.info()"
   ],
   "outputs": [],
   "execution_count": null
  },
  {
   "cell_type": "code",
   "id": "f37840eb",
   "metadata": {},
   "source": [
    "ratings[~ratings[\"movie_id\"].isin(movies[\"movie_id\"])]  #ratings for the movie that was removed"
   ],
   "outputs": [],
   "execution_count": null
  },
  {
   "cell_type": "code",
   "id": "bebba35b",
   "metadata": {},
   "source": [
    "ratings=ratings[ratings[\"movie_id\"].isin(movies[\"movie_id\"])]\n",
    "ratings.loc[ratings[\"movie_id\"]==267]   #Empty row means successful deletion of ratings for the deleted movie"
   ],
   "outputs": [],
   "execution_count": null
  },
  {
   "cell_type": "code",
   "id": "6b342bb9",
   "metadata": {},
   "source": [
    "ratings.drop('timestamp',axis=1,inplace=True)\n",
    "ratings.head()"
   ],
   "outputs": [],
   "execution_count": null
  },
  {
   "cell_type": "markdown",
   "id": "c2f33b93",
   "metadata": {},
   "source": [
    "Exploratory Data Analysis"
   ]
  },
  {
   "cell_type": "code",
   "id": "3d122433",
   "metadata": {},
   "source": [
    "import matplotlib.pyplot as plt\n",
    "import seaborn as sns\n",
    "import matplotlib.dates as mdates"
   ],
   "outputs": [],
   "execution_count": null
  },
  {
   "cell_type": "code",
   "id": "f47cdb6b",
   "metadata": {},
   "source": [
    "# Ratings distribution\n",
    "ratings['rating'].value_counts().sort_index().plot(kind='bar')\n",
    "plt.title('Rating Distribution')\n",
    "plt.xlabel('Rating')\n",
    "plt.ylabel('Frequency')\n",
    "plt.show()\n"
   ],
   "outputs": [],
   "execution_count": null
  },
  {
   "cell_type": "code",
   "id": "aa31ae3d",
   "metadata": {},
   "source": [
    "#Ratings per user\n",
    "ratings_per_user = ratings.groupby('user_id').size().sort_index()\n",
    "ratings_per_user.plot(kind='hist', bins=50)\n",
    "plt.title('Ratings per User')\n",
    "plt.xlabel('Number of Ratings')\n",
    "plt.show()"
   ],
   "outputs": [],
   "execution_count": null
  },
  {
   "cell_type": "code",
   "id": "d89733fb",
   "metadata": {},
   "source": [
    "# Ratings per movie\n",
    "ratings_per_movie = ratings.groupby('movie_id').size()\n",
    "ratings_per_movie.plot(kind='hist', bins=50)\n",
    "plt.title('Ratings per Movie')\n",
    "plt.xlabel('Number of Ratings')\n",
    "plt.show()"
   ],
   "outputs": [],
   "execution_count": null
  },
  {
   "cell_type": "code",
   "id": "8f933fca",
   "metadata": {},
   "source": [
    "# Basic statistics of ratings dataframe\n",
    "print(ratings.isnull().sum())\n",
    "print(\"*\"*50)\n",
    "print(ratings.info())\n",
    "print(\"*\"*50)\n",
    "print(ratings.describe())"
   ],
   "outputs": [],
   "execution_count": null
  },
  {
   "cell_type": "code",
   "id": "4b4bb6b7",
   "metadata": {},
   "source": [
    "print(\"Exploring the movies dataframe\")\n",
    "genre_columns=movies.columns[4:]\n",
    "print(\"Genre columns => \",genre_columns)"
   ],
   "outputs": [],
   "execution_count": null
  },
  {
   "cell_type": "code",
   "id": "4dbf28e2",
   "metadata": {},
   "source": [
    "# Sum of movies in each genre (A movie can belong to several genre)\n",
    "genre_counts = movies[genre_columns].sum().sort_values().plot(kind=\"bar\")"
   ],
   "outputs": [],
   "execution_count": null
  },
  {
   "cell_type": "code",
   "id": "0d247836",
   "metadata": {},
   "source": [
    "# Load the ratings file\n",
    "ratings = pd.read_csv('ml-100k/u.data', sep='\\t', names=['user_id', 'movie_id', 'rating', 'timestamp'])\n",
    "\n",
    "ratings.head()"
   ],
   "outputs": [],
   "execution_count": null
  },
  {
   "metadata": {},
   "cell_type": "code",
   "source": [
    "ratings_per_movie = ratings.groupby('movie_id').size()\n",
    "\n",
    "plt.figure(figsize=(10,6))\n",
    "ratings_per_movie.plot(kind='hist', bins=50, color='skyblue', edgecolor='black')\n",
    "plt.title('Ratings per Movie')\n",
    "plt.xlabel('Number of Ratings')\n",
    "plt.ylabel('Number of Movies')\n",
    "plt.grid(True)\n",
    "plt.tight_layout()\n",
    "plt.show()\n"
   ],
   "id": "436c86a676080369",
   "outputs": [],
   "execution_count": null
  },
  {
   "metadata": {},
   "cell_type": "code",
   "source": [
    "movies = pd.read_csv('ml-100k/u.item', sep='|', encoding='latin-1', header=None, usecols=[0,1], names=['movie_id', 'title'])\n",
    "\n",
    "# Join with ratings count\n",
    "ratings_count = ratings.groupby('movie_id').size().reset_index(name='count')\n",
    "top_movies = ratings_count.sort_values(by='count', ascending=False).head(10)\n",
    "\n",
    "# Merge to get titles\n",
    "top_movies = pd.merge(top_movies, movies, on='movie_id')\n",
    "print(top_movies[['title', 'count']])\n"
   ],
   "id": "131dc9480dfff866",
   "outputs": [],
   "execution_count": null
  },
  {
   "metadata": {},
   "cell_type": "code",
   "source": [
    "# Load ratings data\n",
    "ratings = pd.read_csv('ml-100k/u.data', sep='\\t', names=['user_id', 'movie_id', 'rating', 'timestamp'])"
   ],
   "id": "9325341d94ab5849",
   "outputs": [],
   "execution_count": null
  },
  {
   "metadata": {},
   "cell_type": "code",
   "source": [
    "# Load movie data (only movie_id and title)\n",
    "movies = pd.read_csv(\n",
    "    'ml-100k/u.item',\n",
    "    sep='|',\n",
    "    encoding='latin-1',\n",
    "    header=None,\n",
    "    usecols=[0, 1],\n",
    "    names=['movie_id', 'title']\n",
    ")"
   ],
   "id": "ebd8703d92176860",
   "outputs": [],
   "execution_count": null
  },
  {
   "metadata": {},
   "cell_type": "code",
   "source": [
    "# Merge ratings with movie titles\n",
    "merged_df = pd.merge(ratings, movies, on='movie_id')\n",
    "\n",
    "# Show first few rows\n",
    "merged_df.head()"
   ],
   "id": "747ab33d36aa68bc",
   "outputs": [],
   "execution_count": null
  },
  {
   "metadata": {},
   "cell_type": "code",
   "source": [
    "top_rated = merged_df['title'].value_counts().head(10)\n",
    "print(top_rated)"
   ],
   "id": "3f31b90ddc941886",
   "outputs": [],
   "execution_count": null
  },
  {
   "metadata": {},
   "cell_type": "code",
   "source": "top_10 = merged_df['title'].value_counts().head(10)",
   "id": "68a238a220157444",
   "outputs": [],
   "execution_count": null
  },
  {
   "metadata": {},
   "cell_type": "code",
   "source": [
    "plt.figure(figsize=(10, 6))\n",
    "top_10.plot(kind='barh', color='skyblue', edgecolor='black')\n",
    "plt.xlabel('Number of Ratings')\n",
    "plt.title('Top 10 Most Rated Movies')\n",
    "plt.gca().invert_yaxis()  # Most rated at top\n",
    "plt.tight_layout()\n",
    "plt.show()"
   ],
   "id": "59243b8c4889c537",
   "outputs": [],
   "execution_count": null
  },
  {
   "metadata": {},
   "cell_type": "code",
   "source": [
    "#Feature Engineering – Ratings per Month\n",
    "\n",
    "# 1. Load ratings data\n",
    "ratings = pd.read_csv(\n",
    "    'ml-100k/u.data',\n",
    "    sep='\\t',\n",
    "    names=['user_id', 'movie_id', 'rating', 'timestamp']\n",
    ")\n",
    "\n",
    "# 2. Convert timestamp to datetime\n",
    "ratings['datetime'] = pd.to_datetime(ratings['timestamp'], unit='s')\n",
    "\n",
    "# 3. Extract year-month (e.g., '2020-05')\n",
    "ratings['year_month'] = ratings['datetime'].dt.to_period('M')\n",
    "\n",
    "# 4. Count ratings per movie each month\n",
    "monthly_counts = ratings.groupby(['movie_id', 'year_month']).size().reset_index(name='ratings_count')\n",
    "\n",
    "# 5. Pivot to wide format (each movie, month as column)\n",
    "monthly_pivot = monthly_counts.pivot(\n",
    "    index='movie_id',\n",
    "    columns='year_month',\n",
    "    values='ratings_count'\n",
    ").fillna(0)\n",
    "\n",
    "# 6. (Optional) Add a feature: total ratings across all months\n",
    "monthly_pivot['total_ratings'] = monthly_pivot.sum(axis=1)\n",
    "\n",
    "# 7. Merge this back with movie metadata or your main DataFrame\n",
    "movies = pd.read_csv(\n",
    "    'ml-100k/u.item',\n",
    "    sep='|',\n",
    "    encoding='latin-1',\n",
    "    header=None,\n",
    "    usecols=[0,1],\n",
    "    names=['movie_id', 'title']\n",
    ")\n",
    "\n",
    "feat = pd.merge(monthly_pivot.reset_index(), movies, on='movie_id')\n",
    "print(feat.head())\n"
   ],
   "id": "428396b324f53d7f",
   "outputs": [],
   "execution_count": null
  },
  {
   "metadata": {},
   "cell_type": "code",
   "source": [
    "#Line Plot of Movie Ratings Over Time\n",
    "# (Assuming 'monthly_counts' DataFrame from earlier)\n",
    "# Example: plot ratings count over time for a single movie_id\n",
    "movie_id = 50  # change as needed\n",
    "ts = monthly_counts[monthly_counts.movie_id == movie_id]\n",
    "ts.set_index('year_month', inplace=True)\n",
    "\n",
    "fig, ax = plt.subplots(figsize=(10, 5))\n",
    "ax.plot(ts.index.to_timestamp(), ts['ratings_count'], marker='o')\n",
    "\n",
    "ax.set_title(f'Monthly Ratings Count for Movie {movie_id}')\n",
    "ax.set_xlabel('Month')\n",
    "ax.set_ylabel('Number of Ratings')\n",
    "\n",
    "# Format x-axis ticks every 3 months\n",
    "locator = mdates.MonthLocator(interval=3)\n",
    "formatter = mdates.DateFormatter('%Y-%m')\n",
    "ax.xaxis.set_major_locator(locator)\n",
    "ax.xaxis.set_major_formatter(formatter)\n",
    "fig.autofmt_xdate()\n",
    "\n",
    "ax.grid(True)\n",
    "plt.show()\n"
   ],
   "id": "91f168da654bfb53",
   "outputs": [],
   "execution_count": null
  },
  {
   "metadata": {},
   "cell_type": "code",
   "source": [
    "#Heatmap of Ratings by Movie and Time\n",
    "# Pivot into matrix: movies x months\n",
    "pivot = monthly_counts.pivot(\n",
    "    index='movie_id',\n",
    "    columns='year_month',\n",
    "    values='ratings_count'\n",
    ").fillna(0)\n",
    "\n",
    "# (Optionally select top-10 most active movies for clarity)\n",
    "top_movies = pivot.sum(axis=1).sort_values(ascending=False).head(10).index\n",
    "pivot_top = pivot.loc[top_movies]\n",
    "\n",
    "plt.figure(figsize=(12, 6))\n",
    "sns.heatmap(pivot_top, cmap='YlGnBu', cbar_kws={'label': 'Ratings Count'})\n",
    "plt.title('Ratings Count per Month (Top 10 Movies)')\n",
    "plt.xlabel('Year-Month')\n",
    "plt.ylabel('Movie ID')\n",
    "plt.show()\n"
   ],
   "id": "2a0b4a2ef4b11135",
   "outputs": [],
   "execution_count": null
  },
  {
   "metadata": {},
   "cell_type": "code",
   "source": [
    "#Detecting Abnormal Movie Rating Patterns Using Isolation Forest.\n",
    "from sklearn.ensemble import IsolationForest\n",
    "\n",
    "# Build a feature df\n",
    "features = merged_df.groupby('movie_id').agg({\n",
    "    'rating': ['count', 'mean']\n",
    "}).reset_index()\n",
    "features.columns = ['movie_id', 'rating_count', 'avg_rating']\n",
    "\n",
    "model = IsolationForest(contamination=0.02, random_state=42)\n",
    "model.fit(features[['rating_count', 'avg_rating']])\n",
    "\n",
    "features['anomaly'] = model.predict(features[['rating_count', 'avg_rating']])\n",
    "outliers_iso = features[features['anomaly'] == -1]\n",
    "print(\"IsolationForest outliers:\", outliers_iso)\n",
    "\n",
    "# Plot outliers\n",
    "plt.figure(figsize=(8,6))\n",
    "plt.scatter(features['rating_count'], features['avg_rating'], c=(features['anomaly']==-1), cmap='coolwarm', alpha=0.7)\n",
    "plt.xlabel('Rating Count')\n",
    "plt.ylabel('Average Rating')\n",
    "plt.title('Outliers via Isolation Forest')\n",
    "plt.show()\n"
   ],
   "id": "7fe1fe246bee229a",
   "outputs": [],
   "execution_count": null
  },
  {
   "metadata": {},
   "cell_type": "code",
   "source": [
    "### Simple Item-Based Collaborative Filtering (Slope One)\n",
    "from collections import defaultdict\n",
    "\n",
    "# Load ratings\n",
    "df = pd.read_csv('ml-100k/u.data', sep='\\t',\n",
    "                 names=['user', 'item', 'rating', 'ts'])\n",
    "\n",
    "# Build user→item ratings dict\n",
    "user_ratings = defaultdict(dict)\n",
    "for row in df.itertuples():\n",
    "    user_ratings[row.user][row.item] = row.rating\n",
    "\n",
    "# Compute deviations and counts\n",
    "dev, count = defaultdict(lambda: defaultdict(int)), defaultdict(lambda: defaultdict(int))\n",
    "for u, items in user_ratings.items():\n",
    "    for i, ri in items.items():\n",
    "        for j, rj in items.items():\n",
    "            if i != j:\n",
    "                dev[i][j] += ri - rj\n",
    "                count[i][j] += 1\n",
    "\n",
    "# Average deviations\n",
    "for i in dev:\n",
    "    for j in dev[i]:\n",
    "        dev[i][j] /= count[i][j]\n",
    "\n",
    "# Predict function\n",
    "def slope_one_predict(user, item):\n",
    "    num, den = 0.0, 0\n",
    "    for j, ruj in user_ratings[user].items():\n",
    "        if item in dev[j]:\n",
    "            num += (dev[j][item] + ruj) * count[j][item]\n",
    "            den += count[j][item]\n",
    "    return num / den if den else None\n",
    "\n",
    "# Example: Predict ratings for a sample user\n",
    "test_user = df.user.unique()[0]\n",
    "preds = {item: slope_one_predict(test_user, item)\n",
    "         for item in df.item.unique()\n",
    "         if item not in user_ratings[test_user]}\n",
    "top_preds = sorted(preds.items(), key=lambda x: x[1] or 0, reverse=True)[:10]\n",
    "\n",
    "print(\"Top 10 recommendations (item: predicted rating):\", top_preds)\n",
    "\n"
   ],
   "id": "24d71632ae384cd7",
   "outputs": [],
   "execution_count": null
  },
  {
   "metadata": {
    "ExecuteTime": {
     "end_time": "2025-06-23T09:54:44.141163Z",
     "start_time": "2025-06-23T09:54:43.995523Z"
    }
   },
   "cell_type": "code",
   "source": [
    "### Matrix Factorization with Truncated SVD (NumPy & Scikit‑learn)\n",
    "from sklearn.metrics import mean_squared_error, mean_absolute_error\n",
    "\n",
    "# Load data\n",
    "df = pd.read_csv('ml-100k/u.data', sep='\\t',\n",
    "                 names=['user', 'item', 'rating', 'ts'])\n",
    "\n",
    "# Split train/test\n",
    "train, test = train_test_split(df, test_size=0.2, random_state=42)\n",
    "\n",
    "# Pivot to matrix\n",
    "train_mat = train.pivot(index='user', columns='item', values='rating').fillna(0)\n",
    "test_mat = test.pivot(index='user', columns='item', values='rating').fillna(0)\n",
    "train_mat.head()\n"
   ],
   "id": "7cdb7c5bd2a63ee6",
   "outputs": [
    {
     "data": {
      "text/plain": [
       "item  1     2     3     4     5     6     7     8     9     10    ...  1668  \\\n",
       "user                                                              ...         \n",
       "1      0.0   3.0   4.0   0.0   3.0   0.0   4.0   0.0   5.0   3.0  ...   0.0   \n",
       "2      4.0   0.0   0.0   0.0   0.0   0.0   0.0   0.0   0.0   0.0  ...   0.0   \n",
       "3      0.0   0.0   0.0   0.0   0.0   0.0   0.0   0.0   0.0   0.0  ...   0.0   \n",
       "4      0.0   0.0   0.0   0.0   0.0   0.0   0.0   0.0   0.0   0.0  ...   0.0   \n",
       "5      4.0   0.0   0.0   0.0   0.0   0.0   0.0   0.0   0.0   0.0  ...   0.0   \n",
       "\n",
       "item  1670  1671  1672  1673  1676  1678  1679  1680  1681  \n",
       "user                                                        \n",
       "1      0.0   0.0   0.0   0.0   0.0   0.0   0.0   0.0   0.0  \n",
       "2      0.0   0.0   0.0   0.0   0.0   0.0   0.0   0.0   0.0  \n",
       "3      0.0   0.0   0.0   0.0   0.0   0.0   0.0   0.0   0.0  \n",
       "4      0.0   0.0   0.0   0.0   0.0   0.0   0.0   0.0   0.0  \n",
       "5      0.0   0.0   0.0   0.0   0.0   0.0   0.0   0.0   0.0  \n",
       "\n",
       "[5 rows x 1653 columns]"
      ],
      "text/html": [
       "<div>\n",
       "<style scoped>\n",
       "    .dataframe tbody tr th:only-of-type {\n",
       "        vertical-align: middle;\n",
       "    }\n",
       "\n",
       "    .dataframe tbody tr th {\n",
       "        vertical-align: top;\n",
       "    }\n",
       "\n",
       "    .dataframe thead th {\n",
       "        text-align: right;\n",
       "    }\n",
       "</style>\n",
       "<table border=\"1\" class=\"dataframe\">\n",
       "  <thead>\n",
       "    <tr style=\"text-align: right;\">\n",
       "      <th>item</th>\n",
       "      <th>1</th>\n",
       "      <th>2</th>\n",
       "      <th>3</th>\n",
       "      <th>4</th>\n",
       "      <th>5</th>\n",
       "      <th>6</th>\n",
       "      <th>7</th>\n",
       "      <th>8</th>\n",
       "      <th>9</th>\n",
       "      <th>10</th>\n",
       "      <th>...</th>\n",
       "      <th>1668</th>\n",
       "      <th>1670</th>\n",
       "      <th>1671</th>\n",
       "      <th>1672</th>\n",
       "      <th>1673</th>\n",
       "      <th>1676</th>\n",
       "      <th>1678</th>\n",
       "      <th>1679</th>\n",
       "      <th>1680</th>\n",
       "      <th>1681</th>\n",
       "    </tr>\n",
       "    <tr>\n",
       "      <th>user</th>\n",
       "      <th></th>\n",
       "      <th></th>\n",
       "      <th></th>\n",
       "      <th></th>\n",
       "      <th></th>\n",
       "      <th></th>\n",
       "      <th></th>\n",
       "      <th></th>\n",
       "      <th></th>\n",
       "      <th></th>\n",
       "      <th></th>\n",
       "      <th></th>\n",
       "      <th></th>\n",
       "      <th></th>\n",
       "      <th></th>\n",
       "      <th></th>\n",
       "      <th></th>\n",
       "      <th></th>\n",
       "      <th></th>\n",
       "      <th></th>\n",
       "      <th></th>\n",
       "    </tr>\n",
       "  </thead>\n",
       "  <tbody>\n",
       "    <tr>\n",
       "      <th>1</th>\n",
       "      <td>0.0</td>\n",
       "      <td>3.0</td>\n",
       "      <td>4.0</td>\n",
       "      <td>0.0</td>\n",
       "      <td>3.0</td>\n",
       "      <td>0.0</td>\n",
       "      <td>4.0</td>\n",
       "      <td>0.0</td>\n",
       "      <td>5.0</td>\n",
       "      <td>3.0</td>\n",
       "      <td>...</td>\n",
       "      <td>0.0</td>\n",
       "      <td>0.0</td>\n",
       "      <td>0.0</td>\n",
       "      <td>0.0</td>\n",
       "      <td>0.0</td>\n",
       "      <td>0.0</td>\n",
       "      <td>0.0</td>\n",
       "      <td>0.0</td>\n",
       "      <td>0.0</td>\n",
       "      <td>0.0</td>\n",
       "    </tr>\n",
       "    <tr>\n",
       "      <th>2</th>\n",
       "      <td>4.0</td>\n",
       "      <td>0.0</td>\n",
       "      <td>0.0</td>\n",
       "      <td>0.0</td>\n",
       "      <td>0.0</td>\n",
       "      <td>0.0</td>\n",
       "      <td>0.0</td>\n",
       "      <td>0.0</td>\n",
       "      <td>0.0</td>\n",
       "      <td>0.0</td>\n",
       "      <td>...</td>\n",
       "      <td>0.0</td>\n",
       "      <td>0.0</td>\n",
       "      <td>0.0</td>\n",
       "      <td>0.0</td>\n",
       "      <td>0.0</td>\n",
       "      <td>0.0</td>\n",
       "      <td>0.0</td>\n",
       "      <td>0.0</td>\n",
       "      <td>0.0</td>\n",
       "      <td>0.0</td>\n",
       "    </tr>\n",
       "    <tr>\n",
       "      <th>3</th>\n",
       "      <td>0.0</td>\n",
       "      <td>0.0</td>\n",
       "      <td>0.0</td>\n",
       "      <td>0.0</td>\n",
       "      <td>0.0</td>\n",
       "      <td>0.0</td>\n",
       "      <td>0.0</td>\n",
       "      <td>0.0</td>\n",
       "      <td>0.0</td>\n",
       "      <td>0.0</td>\n",
       "      <td>...</td>\n",
       "      <td>0.0</td>\n",
       "      <td>0.0</td>\n",
       "      <td>0.0</td>\n",
       "      <td>0.0</td>\n",
       "      <td>0.0</td>\n",
       "      <td>0.0</td>\n",
       "      <td>0.0</td>\n",
       "      <td>0.0</td>\n",
       "      <td>0.0</td>\n",
       "      <td>0.0</td>\n",
       "    </tr>\n",
       "    <tr>\n",
       "      <th>4</th>\n",
       "      <td>0.0</td>\n",
       "      <td>0.0</td>\n",
       "      <td>0.0</td>\n",
       "      <td>0.0</td>\n",
       "      <td>0.0</td>\n",
       "      <td>0.0</td>\n",
       "      <td>0.0</td>\n",
       "      <td>0.0</td>\n",
       "      <td>0.0</td>\n",
       "      <td>0.0</td>\n",
       "      <td>...</td>\n",
       "      <td>0.0</td>\n",
       "      <td>0.0</td>\n",
       "      <td>0.0</td>\n",
       "      <td>0.0</td>\n",
       "      <td>0.0</td>\n",
       "      <td>0.0</td>\n",
       "      <td>0.0</td>\n",
       "      <td>0.0</td>\n",
       "      <td>0.0</td>\n",
       "      <td>0.0</td>\n",
       "    </tr>\n",
       "    <tr>\n",
       "      <th>5</th>\n",
       "      <td>4.0</td>\n",
       "      <td>0.0</td>\n",
       "      <td>0.0</td>\n",
       "      <td>0.0</td>\n",
       "      <td>0.0</td>\n",
       "      <td>0.0</td>\n",
       "      <td>0.0</td>\n",
       "      <td>0.0</td>\n",
       "      <td>0.0</td>\n",
       "      <td>0.0</td>\n",
       "      <td>...</td>\n",
       "      <td>0.0</td>\n",
       "      <td>0.0</td>\n",
       "      <td>0.0</td>\n",
       "      <td>0.0</td>\n",
       "      <td>0.0</td>\n",
       "      <td>0.0</td>\n",
       "      <td>0.0</td>\n",
       "      <td>0.0</td>\n",
       "      <td>0.0</td>\n",
       "      <td>0.0</td>\n",
       "    </tr>\n",
       "  </tbody>\n",
       "</table>\n",
       "<p>5 rows × 1653 columns</p>\n",
       "</div>"
      ]
     },
     "execution_count": 66,
     "metadata": {},
     "output_type": "execute_result"
    }
   ],
   "execution_count": 66
  },
  {
   "metadata": {
    "ExecuteTime": {
     "end_time": "2025-06-23T09:56:50.798500Z",
     "start_time": "2025-06-23T09:56:50.677417Z"
    }
   },
   "cell_type": "code",
   "source": [
    "# Factorize with truncated SVD\n",
    "U, Sigma, VT = randomized_svd(train_mat.values, n_components=20, random_state=42)\n",
    "Sigma_mat = np.diag(Sigma)\n",
    "\n",
    "# Reconstruct train prediction matrix\n",
    "pred_train = np.dot(np.dot(U, Sigma_mat), VT)\n",
    "train_mat.head()\n",
    "test_mat.head()\n",
    "train_mat.shape\n",
    "test_mat.shape"
   ],
   "id": "fc90ca91d2b9f4b0",
   "outputs": [
    {
     "data": {
      "text/plain": [
       "(940, 1411)"
      ]
     },
     "execution_count": 68,
     "metadata": {},
     "output_type": "execute_result"
    }
   ],
   "execution_count": 68
  },
  {
   "metadata": {},
   "cell_type": "code",
   "source": [
    "# Perform truncated SVD to reconstruct user–item ratings matrix (low-rank approximation)\n",
    "\n",
    "# from sklearn.decomposition import TruncatedSVD\n",
    "# from sklearn.metrics import mean_squared_error, mean_absolute_error\n",
    "# import numpy as np\n",
    "# import pandas as pd\n",
    "# from sklearn.model_selection import train_test_split\n",
    "# Load data\n",
    "df = pd.read_csv('ml-100k/u.data', sep='\\t',\n",
    "                 names=['user', 'item', 'rating', 'ts'])\n",
    "\n",
    "# Split\n",
    "train, test = train_test_split(df, test_size=0.2, random_state=42)\n",
    "\n",
    "# Collect all users/items\n",
    "users = sorted(set(df['user']))\n",
    "items = sorted(set(df['item']))\n",
    "\n",
    "# Pivot training matrix\n",
    "train_mat = train.pivot_table(index='user', columns='item',\n",
    "                              values='rating', fill_value=0).reindex(\n",
    "    index=users, columns=items, fill_value=0\n",
    ")\n",
    "\n",
    "# Apply TruncatedSVD\n",
    "tsvd = TruncatedSVD(n_components=20, random_state=42)\n",
    "train_reduced = tsvd.fit_transform(train_mat)\n",
    "\n",
    "# Reconstruct full matrix\n",
    "pred_matrix = np.dot(train_reduced, tsvd.components_)\n",
    "\n",
    "# Wrap into DataFrame\n",
    "pred_df = pd.DataFrame(pred_matrix, index=users, columns=items)\n",
    "\n",
    "# Evaluate on test\n",
    "preds, truths = [], []\n",
    "for u, i, true_val in test[['user', 'item', 'rating']].itertuples(index=False):\n",
    "    preds.append(pred_df.at[u, i])\n",
    "    truths.append(true_val)\n",
    "\n",
    "rmse = np.sqrt(mean_squared_error(truths, preds))\n",
    "mae = mean_absolute_error(truths, preds)\n",
    "print(f\"SVD RMSE = {rmse:.3f}, MAE = {mae:.3f}\")\n"
   ],
   "id": "91c2dccad95712ef",
   "outputs": [],
   "execution_count": null
  }
 ],
 "metadata": {
  "kernelspec": {
   "display_name": "pyenv",
   "language": "python",
   "name": "python3"
  },
  "language_info": {
   "codemirror_mode": {
    "name": "ipython",
    "version": 3
   },
   "file_extension": ".py",
   "mimetype": "text/x-python",
   "name": "python",
   "nbconvert_exporter": "python",
   "pygments_lexer": "ipython3",
   "version": "3.13.2"
  }
 },
 "nbformat": 4,
 "nbformat_minor": 5
}
