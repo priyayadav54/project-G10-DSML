{
 "cells": [
  {
   "cell_type": "markdown",
   "id": "e1e5b3d5",
   "metadata": {},
   "source": [
    "Movie recommendation system"
   ]
  },
  {
   "cell_type": "code",
   "execution_count": null,
   "id": "459c82bd",
   "metadata": {},
   "outputs": [],
   "source": [
    "import pandas as pd\n",
    "import numpy as np"
   ]
  },
  {
   "cell_type": "code",
   "execution_count": null,
   "id": "6ceef56e",
   "metadata": {},
   "outputs": [],
   "source": [
    "#User ratings dataframe\n",
    "ratings=pd.read_csv(\"./ml-100k/u.data\",sep=\"\\t\",names=[\"user_id\",\"movie_id\",\"rating\",\"timestamp\"])\n",
    "ratings.head()"
   ]
  },
  {
   "cell_type": "code",
   "execution_count": null,
   "id": "c2d85054",
   "metadata": {},
   "outputs": [],
   "source": [
    "#Movies dataframe\n",
    "columns=[\"movie_id\",\"title\",\"release_date\",\"video_release_date\",\"imdb_url\",\"unknown\",\n",
    "         \"Action\",\"Adventure\",\"Animation\",\"Children\\'s\",\"Comedy\",\"Crime\",\"Documentary\",\n",
    "         \"Drama\",\"Fantasy\",\"Film-Noir\",\"Horror\",\"Musical\",\"Mystery\",\"Romance\",\"Sci-Fi\",\n",
    "         \"Thriller\",\"War\",\"Western\"]\n",
    "movies=pd.read_csv(\"./ml-100k/u.item\",sep=\"|\",names=columns,encoding='latin1')\n",
    "print(movies.head())"
   ]
  },
  {
   "cell_type": "code",
   "execution_count": null,
   "id": "d437a4d4",
   "metadata": {},
   "outputs": [],
   "source": [
    "#Users dataframe\n",
    "users=pd.read_csv(\"./ml-100k/u.user\",sep=\"|\",names=[\"user_id\",\"age\",\"gender\",\"occupation\",\"zip_code\"])\n",
    "print(users.head())"
   ]
  },
  {
   "cell_type": "code",
   "execution_count": null,
   "id": "180c7bb0",
   "metadata": {},
   "outputs": [],
   "source": [
    "print(ratings.info())"
   ]
  },
  {
   "cell_type": "code",
   "execution_count": null,
   "id": "327c222d",
   "metadata": {},
   "outputs": [],
   "source": [
    "print(movies.info())"
   ]
  },
  {
   "cell_type": "code",
   "execution_count": null,
   "id": "c9f3b3fc",
   "metadata": {},
   "outputs": [],
   "source": [
    "print(users.info())"
   ]
  },
  {
   "cell_type": "code",
   "execution_count": null,
   "id": "b04f88e6",
   "metadata": {},
   "outputs": [],
   "source": [
    "ratings.isnull().sum()"
   ]
  },
  {
   "cell_type": "code",
   "execution_count": null,
   "id": "22f34938",
   "metadata": {},
   "outputs": [],
   "source": [
    "users.isnull().sum()"
   ]
  },
  {
   "cell_type": "code",
   "execution_count": null,
   "id": "742bc49e",
   "metadata": {},
   "outputs": [],
   "source": [
    "movies.isnull().sum()"
   ]
  },
  {
   "cell_type": "code",
   "execution_count": null,
   "id": "a9ea0bd0",
   "metadata": {},
   "outputs": [],
   "source": [
    "print(movies.loc[movies[\"release_date\"].isnull()])"
   ]
  },
  {
   "cell_type": "code",
   "execution_count": null,
   "id": "2db6c33f",
   "metadata": {},
   "outputs": [],
   "source": [
    "print(movies[movies[\"title\"]==\"unknown\"])\n",
    "movies=movies[movies[\"title\"]!=\"unknown\"]\n",
    "print(\"Removed movie with unknown title, genre and release date\")"
   ]
  },
  {
   "cell_type": "code",
   "execution_count": null,
   "id": "90ac8fb1",
   "metadata": {},
   "outputs": [],
   "source": [
    "movies.drop(columns=[\"video_release_date\"], inplace=True)   #remove video release date as all are null"
   ]
  },
  {
   "cell_type": "code",
   "execution_count": null,
   "id": "429a2245",
   "metadata": {},
   "outputs": [],
   "source": [
    "print(movies.isnull().sum())"
   ]
  },
  {
   "cell_type": "code",
   "execution_count": null,
   "id": "2edfa4bb",
   "metadata": {},
   "outputs": [],
   "source": [
    "movies[\"imdb_url\"]=movies[\"imdb_url\"].fillna(value=\"none\")   #Fill the missing url with a value none\n",
    "movies.isnull().sum()"
   ]
  },
  {
   "cell_type": "code",
   "execution_count": null,
   "id": "8b27e7ea",
   "metadata": {},
   "outputs": [],
   "source": [
    "movies.info()"
   ]
  },
  {
   "cell_type": "code",
   "execution_count": null,
   "id": "a2950511",
   "metadata": {},
   "outputs": [],
   "source": [
    "movies[\"release_date\"]=pd.to_datetime(movies[\"release_date\"])\n",
    "print(movies[\"release_date\"].head())"
   ]
  },
  {
   "cell_type": "code",
   "execution_count": null,
   "id": "10f12bc5",
   "metadata": {},
   "outputs": [],
   "source": [
    "movies.info()"
   ]
  },
  {
   "cell_type": "code",
   "execution_count": null,
   "id": "f37840eb",
   "metadata": {},
   "outputs": [],
   "source": [
    "ratings[~ratings[\"movie_id\"].isin(movies[\"movie_id\"])]  #ratings for the movie that was removed"
   ]
  },
  {
   "cell_type": "code",
   "execution_count": null,
   "id": "bebba35b",
   "metadata": {},
   "outputs": [],
   "source": [
    "ratings=ratings[ratings[\"movie_id\"].isin(movies[\"movie_id\"])]\n",
    "ratings.loc[ratings[\"movie_id\"]==267]   #Empty row means successful deletion of ratings for the deleted movie"
   ]
  },
  {
   "cell_type": "code",
   "execution_count": null,
   "id": "6b342bb9",
   "metadata": {},
   "outputs": [],
   "source": [
    "ratings.drop('timestamp',axis=1,inplace=True)\n",
    "ratings.head()"
   ]
  },
  {
   "cell_type": "markdown",
   "id": "c2f33b93",
   "metadata": {},
   "source": [
    "Exploratory Data Analysis"
   ]
  },
  {
   "cell_type": "code",
   "execution_count": null,
   "id": "3d122433",
   "metadata": {},
   "outputs": [],
   "source": [
    "import matplotlib.pyplot as plt\n",
    "import seaborn as sns"
   ]
  },
  {
   "cell_type": "code",
   "execution_count": null,
   "id": "f47cdb6b",
   "metadata": {},
   "outputs": [],
   "source": [
    "# Ratings distribution\n",
    "ratings['rating'].value_counts().sort_index().plot(kind='bar')\n",
    "plt.title('Rating Distribution')\n",
    "plt.xlabel('Rating')\n",
    "plt.ylabel('Frequency')\n",
    "plt.show()\n"
   ]
  },
  {
   "cell_type": "code",
   "execution_count": null,
   "id": "aa31ae3d",
   "metadata": {},
   "outputs": [],
   "source": [
    "#Ratings per user\n",
    "ratings_per_user = ratings.groupby('user_id').size().sort_index()\n",
    "ratings_per_user.plot(kind='hist', bins=50)\n",
    "plt.title('Ratings per User')\n",
    "plt.xlabel('Number of Ratings')\n",
    "plt.show()"
   ]
  },
  {
   "cell_type": "code",
   "execution_count": null,
   "id": "d89733fb",
   "metadata": {},
   "outputs": [],
   "source": [
    "# Ratings per movie\n",
    "ratings_per_movie = ratings.groupby('movie_id').size()\n",
    "ratings_per_movie.plot(kind='hist', bins=50)\n",
    "plt.title('Ratings per Movie')\n",
    "plt.xlabel('Number of Ratings')\n",
    "plt.show()"
   ]
  },
  {
   "cell_type": "code",
   "execution_count": null,
   "id": "8f933fca",
   "metadata": {},
   "outputs": [],
   "source": [
    "# Basic statistics of ratings dataframe\n",
    "print(ratings.isnull().sum())\n",
    "print(\"*\"*50)\n",
    "print(ratings.info())\n",
    "print(\"*\"*50)\n",
    "print(ratings.describe())"
   ]
  },
  {
   "cell_type": "code",
   "execution_count": null,
   "id": "4b4bb6b7",
   "metadata": {},
   "outputs": [],
   "source": [
    "print(\"Exploring the movies dataframe\")\n",
    "genre_columns=movies.columns[4:]\n",
    "print(\"Genre columns => \",genre_columns)"
   ]
  },
  {
   "cell_type": "code",
   "execution_count": null,
   "id": "4dbf28e2",
   "metadata": {},
   "outputs": [],
   "source": [
    "# Sum of movies in each genre (A movie can belong to several genre)\n",
    "genre_counts = movies[genre_columns].sum().sort_values().plot(kind=\"bar\")"
   ]
  },
  {
   "cell_type": "code",
   "execution_count": null,
   "id": "0d247836",
   "metadata": {},
   "outputs": [],
   "source": []
  }
 ],
 "metadata": {
  "kernelspec": {
   "display_name": "pyenv",
   "language": "python",
   "name": "python3"
  },
  "language_info": {
   "codemirror_mode": {
    "name": "ipython",
    "version": 3
   },
   "file_extension": ".py",
   "mimetype": "text/x-python",
   "name": "python",
   "nbconvert_exporter": "python",
   "pygments_lexer": "ipython3",
   "version": "3.13.2"
  }
 },
 "nbformat": 4,
 "nbformat_minor": 5
}
